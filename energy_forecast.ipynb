{
 "cells": [
  {
   "cell_type": "markdown",
   "metadata": {},
   "source": [
    "# Time forecasting model for energy demand"
   ]
  },
  {
   "cell_type": "markdown",
   "metadata": {},
   "source": [
    "The time forecasting of energy demand from pre-corona data will give us an estimate of what our current energy demand would be without corona. The difference between this and our actual data/estimations based on data including corona will be our daily energy savings. The following model is an Holt-Winter’s Seasonal Smoothing model following this article: https://towardsdatascience.com/time-series-in-python-part-2-dealing-with-seasonal-data-397a65b74051\n"
   ]
  },
  {
   "cell_type": "markdown",
   "metadata": {},
   "source": [
    "## Import libraries"
   ]
  },
  {
   "cell_type": "code",
   "execution_count": 1,
   "metadata": {},
   "outputs": [],
   "source": [
    "import pandas as pd\n",
    "from matplotlib import pyplot as plt\n",
    "import os\n",
    "import numpy as np\n",
    "from statsmodels.tsa.stattools import adfuller\n",
    "from statsmodels.tsa.seasonal import seasonal_decompose\n",
    "from statsmodels.tsa.holtwinters import ExponentialSmoothing\n",
    "from datetime import timedelta"
   ]
  },
  {
   "cell_type": "markdown",
   "metadata": {},
   "source": [
    "## Load/save data"
   ]
  },
  {
   "cell_type": "code",
   "execution_count": 2,
   "metadata": {},
   "outputs": [],
   "source": [
    "file_name = 'uk_energy_daily.csv'\n",
    "data_dir = 'data/processed'\n",
    "file_path = os.path.join(data_dir, file_name)\n",
    "load_df = pd.read_csv(file_path, usecols = [\"demand\", \"timestamp\"], index_col = \"timestamp\")\n",
    "load_df.index = pd.to_datetime(load_df.index)"
   ]
  },
  {
   "cell_type": "code",
   "execution_count": 3,
   "metadata": {},
   "outputs": [],
   "source": [
    "save_dir = 'data/img'\n",
    "img_fmt = '.png'"
   ]
  },
  {
   "cell_type": "markdown",
   "metadata": {},
   "source": [
    "## Set hyper-parameters"
   ]
  },
  {
   "cell_type": "code",
   "execution_count": 4,
   "metadata": {},
   "outputs": [],
   "source": [
    "smoothing = False\n",
    "smooth_str = 'smoothed' if smoothing else 'not_smoothed'\n",
    "model_trend=\"add\"\n",
    "model_trend_str=f'trend_{model_trend}'\n",
    "model_seasonal=\"mul\"\n",
    "model_seasonal_str=f'seasonal_{model_seasonal}'\n",
    "model_damped=True\n",
    "model_damped_str= 'damped' if model_damped else 'not_damped'"
   ]
  },
  {
   "cell_type": "markdown",
   "metadata": {},
   "source": [
    "## Remove weekly seasonlity"
   ]
  },
  {
   "cell_type": "markdown",
   "metadata": {},
   "source": [
    "Daily data is seasonal (periodic) at the weekly and yearly level. One needs to be remove and weekly is the least import as their would be an element of lag and smoothing in atmospheric measurements."
   ]
  },
  {
   "cell_type": "code",
   "execution_count": 5,
   "metadata": {},
   "outputs": [],
   "source": [
    "if smoothing:\n",
    "    load_df = load_df.rolling(7, center=True).mean().dropna()\n",
    "seas_freq_val = 365 # frequency of datapoints withon season\n",
    "seas_freq_unit = 'D'"
   ]
  },
  {
   "cell_type": "markdown",
   "metadata": {},
   "source": [
    "## Explore smoothed dataset"
   ]
  },
  {
   "cell_type": "code",
   "execution_count": 6,
   "metadata": {},
   "outputs": [
    {
     "name": "stdout",
     "output_type": "stream",
     "text": [
      "<class 'pandas.core.frame.DataFrame'>\n",
      "DatetimeIndex: 3092 entries, 2012-01-01 to 2020-06-18\n",
      "Data columns (total 1 columns):\n",
      " #   Column  Non-Null Count  Dtype  \n",
      "---  ------  --------------  -----  \n",
      " 0   demand  3092 non-null   float64\n",
      "dtypes: float64(1)\n",
      "memory usage: 48.3 KB\n"
     ]
    }
   ],
   "source": [
    "load_df.info()"
   ]
  },
  {
   "cell_type": "code",
   "execution_count": 7,
   "metadata": {},
   "outputs": [
    {
     "data": {
      "text/html": [
       "<div>\n",
       "<style scoped>\n",
       "    .dataframe tbody tr th:only-of-type {\n",
       "        vertical-align: middle;\n",
       "    }\n",
       "\n",
       "    .dataframe tbody tr th {\n",
       "        vertical-align: top;\n",
       "    }\n",
       "\n",
       "    .dataframe thead th {\n",
       "        text-align: right;\n",
       "    }\n",
       "</style>\n",
       "<table border=\"1\" class=\"dataframe\">\n",
       "  <thead>\n",
       "    <tr style=\"text-align: right;\">\n",
       "      <th></th>\n",
       "      <th>demand</th>\n",
       "    </tr>\n",
       "    <tr>\n",
       "      <th>timestamp</th>\n",
       "      <th></th>\n",
       "    </tr>\n",
       "  </thead>\n",
       "  <tbody>\n",
       "    <tr>\n",
       "      <th>2012-01-01</th>\n",
       "      <td>31921.377109</td>\n",
       "    </tr>\n",
       "    <tr>\n",
       "      <th>2012-01-02</th>\n",
       "      <td>34732.126852</td>\n",
       "    </tr>\n",
       "    <tr>\n",
       "      <th>2012-01-03</th>\n",
       "      <td>40255.175892</td>\n",
       "    </tr>\n",
       "    <tr>\n",
       "      <th>2012-01-04</th>\n",
       "      <td>41781.346488</td>\n",
       "    </tr>\n",
       "    <tr>\n",
       "      <th>2012-01-05</th>\n",
       "      <td>41395.873965</td>\n",
       "    </tr>\n",
       "  </tbody>\n",
       "</table>\n",
       "</div>"
      ],
      "text/plain": [
       "                  demand\n",
       "timestamp               \n",
       "2012-01-01  31921.377109\n",
       "2012-01-02  34732.126852\n",
       "2012-01-03  40255.175892\n",
       "2012-01-04  41781.346488\n",
       "2012-01-05  41395.873965"
      ]
     },
     "execution_count": 7,
     "metadata": {},
     "output_type": "execute_result"
    }
   ],
   "source": [
    "load_df.head()"
   ]
  },
  {
   "cell_type": "code",
   "execution_count": 8,
   "metadata": {},
   "outputs": [
    {
     "data": {
      "image/png": "[encoded data removed]",
      "text/plain": [
       "<Figure size 432x288 with 4 Axes>"
      ]
     },
     "metadata": {
      "needs_background": "light"
     },
     "output_type": "display_data"
    }
   ],
   "source": [
    "decomposition = seasonal_decompose(load_df, period=seas_freq_val)\n",
    "fig = decomposition.plot() # assign to variable to avoid double plotting\n",
    "fig.savefig(os.path.join(save_dir, f'seasonal_decomposition_{smooth_str}{img_fmt}'))"
   ]
  },
  {
   "cell_type": "markdown",
   "metadata": {},
   "source": [
    "## Transform data to be stationary"
   ]
  },
  {
   "cell_type": "markdown",
   "metadata": {},
   "source": [
    "Define stationary test function"
   ]
  },
  {
   "cell_type": "code",
   "execution_count": 9,
   "metadata": {},
   "outputs": [],
   "source": [
    "def get_stationarity(timeseries):\n",
    "    \n",
    "    # rolling statistics\n",
    "    rolling_mean = timeseries.rolling(seas_freq_val, center=True).mean()\n",
    "    rolling_std = timeseries.rolling(seas_freq_val, center=True).std()\n",
    "    \n",
    "    # rolling statistics plot\n",
    "    original = plt.plot(timeseries, color='blue', label='Original')\n",
    "    mean = plt.plot(rolling_mean, color='red', label='Rolling Mean')\n",
    "    std = plt.plot(rolling_std, color='black', label='Rolling Std')\n",
    "    plt.legend(loc='best')\n",
    "    plt.title('Rolling Mean & Standard Deviation')\n",
    "    plt.show(block=False)\n",
    "\n",
    "    # Dickey–Fuller test\n",
    "    result = adfuller(timeseries)\n",
    "    print('ADF Statistic: {:.3f}'.format(result[0]))\n",
    "    print('p-value: {:.3f}'.format(result[1]))\n",
    "    print('Critical Values:')\n",
    "    for key, value in result[4].items():\n",
    "        print('\\t{}: {:.3f}'.format(key, value))"
   ]
  },
  {
   "cell_type": "code",
   "execution_count": 10,
   "metadata": {},
   "outputs": [
    {
     "data": {
      "image/png": "[encoded data removed]",
      "text/plain": [
       "<Figure size 432x288 with 1 Axes>"
      ]
     },
     "metadata": {
      "needs_background": "light"
     },
     "output_type": "display_data"
    },
    {
     "name": "stdout",
     "output_type": "stream",
     "text": [
      "ADF Statistic: -3.521\n",
      "p-value: 0.007\n",
      "Critical Values:\n",
      "\t1%: -3.432\n",
      "\t5%: -2.862\n",
      "\t10%: -2.567\n"
     ]
    }
   ],
   "source": [
    "get_stationarity(load_df)"
   ]
  },
  {
   "cell_type": "markdown",
   "metadata": {},
   "source": [
    "## Split datasets"
   ]
  },
  {
   "cell_type": "code",
   "execution_count": 11,
   "metadata": {},
   "outputs": [],
   "source": [
    "pre_corona = load_df[:'2019-12-31']\n",
    "incl_corona  = load_df"
   ]
  },
  {
   "cell_type": "code",
   "execution_count": 12,
   "metadata": {},
   "outputs": [],
   "source": [
    "train = pre_corona[:'2017-12-31']\n",
    "test  = pre_corona['2018-01-01':]"
   ]
  },
  {
   "cell_type": "markdown",
   "metadata": {},
   "source": [
    "## Holt-Winter’s Seasonal Smoothing model"
   ]
  },
  {
   "cell_type": "code",
   "execution_count": 13,
   "metadata": {},
   "outputs": [],
   "source": [
    "def create_model(timeseries):\n",
    "    model = ExponentialSmoothing(timeseries, trend=model_trend, seasonal=model_seasonal,\n",
    "                                 seasonal_periods=seas_freq_val, freq=seas_freq_unit, damped=model_damped)\n",
    "    model_fitted = model.fit()\n",
    "    return model_fitted"
   ]
  },
  {
   "cell_type": "markdown",
   "metadata": {},
   "source": [
    "### Use train-test split to decide hyper-parameters"
   ]
  },
  {
   "cell_type": "code",
   "execution_count": null,
   "metadata": {},
   "outputs": [],
   "source": [
    "model_eval = create_model(train)"
   ]
  },
  {
   "cell_type": "code",
   "execution_count": null,
   "metadata": {},
   "outputs": [],
   "source": [
    "pred_train = model_eval.predict(train.index.min(), train.index.max()).to_frame(name='demand')\n",
    "rmse_train = np.sqrt(np.mean(np.square(train.values-pred_train.values)))"
   ]
  },
  {
   "cell_type": "code",
   "execution_count": null,
   "metadata": {},
   "outputs": [],
   "source": [
    "pred_test = model_eval.predict(test.index.min(), test.index.max()).to_frame(name='demand')\n",
    "rmse_test = np.sqrt(np.mean(np.square(test.values-pred_test.values)))"
   ]
  },
  {
   "cell_type": "code",
   "execution_count": null,
   "metadata": {},
   "outputs": [],
   "source": [
    "fig, ax = plt.subplots()\n",
    "ax.plot(train.index, train.values, label = 'train')\n",
    "ax.plot(test.index, test.values, label='test')\n",
    "ax.plot(train.index, pred_train.values, linestyle = '--',\n",
    "        label = f'train (predicted): RMSE={rmse_train:.0f}')\n",
    "ax.plot(test.index, pred_test.values, linestyle = '--',\n",
    "        label = f'test (predicted): RMSE={rmse_test:.0f}')\n",
    "ax.set_ylabel('Energy demand [MW]')\n",
    "ax.legend(loc = 'best')\n",
    "fig.savefig(os.path.join(save_dir, f'hyper-parameter_testing_{smooth_str}_{model_trend_str}\\\n",
    "_{model_seasonal_str}_{model_damped_str}{img_fmt}'))"
   ]
  },
  {
   "cell_type": "markdown",
   "metadata": {},
   "source": [
    "### Use with-without corona split to evaluate energy savings"
   ]
  },
  {
   "cell_type": "code",
   "execution_count": null,
   "metadata": {},
   "outputs": [],
   "source": [
    "model_with = create_model(incl_corona)\n",
    "model_without = create_model(pre_corona)"
   ]
  },
  {
   "cell_type": "code",
   "execution_count": null,
   "metadata": {},
   "outputs": [],
   "source": [
    "with_corona_actual=incl_corona['2020-01-01':]\n",
    "with_corona_pred = model_with.predict(incl_corona.index.max() + timedelta(days=1),\n",
    "                                      '2020-12-31').to_frame(name='demand')\n",
    "uk_energy_demand_2020 = pd.concat([with_corona_actual, with_corona_pred]).rename(\n",
    "    columns={'demand':'with_corona'})\n",
    "uk_energy_demand_2020['without_corona'] = model_without.predict('2020-01-01','2020-12-31')\n",
    "uk_energy_demand_2020['reduction'] = uk_energy_demand_2020['without_corona'\n",
    "                                                          ]-uk_energy_demand_2020['with_corona']\n",
    "# uk_energy_demand_2020.rename(index={0:\"timestamp\"})\n",
    "uk_energy_demand_2020.index.name=\"timestamp\"\n",
    "mean_reduction = uk_energy_demand_2020['reduction'].mean()"
   ]
  },
  {
   "cell_type": "code",
   "execution_count": null,
   "metadata": {},
   "outputs": [],
   "source": [
    "uk_energy_demand_2020.head()"
   ]
  },
  {
   "cell_type": "code",
   "execution_count": null,
   "metadata": {},
   "outputs": [],
   "source": [
    "fig, ax = plt.subplots()\n",
    "ax.plot(uk_energy_demand_2020.index, uk_energy_demand_2020['with_corona'].values,\n",
    "        label = 'With Covid-19 (observed)')\n",
    "ax.plot(uk_energy_demand_2020.index, uk_energy_demand_2020['without_corona'].values,\n",
    "        label = 'Without Covid-19 (predicted)')\n",
    "ax.plot(pre_corona.index, pre_corona.values, label = 'Pre Covid-19')\n",
    "ax.legend()"
   ]
  },
  {
   "cell_type": "code",
   "execution_count": null,
   "metadata": {},
   "outputs": [],
   "source": [
    "fig, ax = plt.subplots()\n",
    "ax.plot(uk_energy_demand_2020.index, uk_energy_demand_2020['with_corona'].values,\n",
    "        label = 'With Covid-19 (observed)')\n",
    "ax.plot(uk_energy_demand_2020.index, uk_energy_demand_2020['without_corona'].values,\n",
    "        label = 'Without Covid-19 (predicted)')\n",
    "ax.legend()\n",
    "ax.set_ylabel('Energy demand [MW]')\n",
    "fig.savefig(os.path.join(save_dir, f'with_without_comparison_{smooth_str}_{model_trend_str}\\\n",
    "_{model_seasonal_str}_{model_damped_str}{img_fmt}'))"
   ]
  },
  {
   "cell_type": "code",
   "execution_count": null,
   "metadata": {},
   "outputs": [],
   "source": [
    "fig, ax = plt.subplots()\n",
    "uk_energy_demand_2020['reduction'].plot(ax=ax)\n",
    "ax.plot([uk_energy_demand_2020.index.min(), uk_energy_demand_2020.index.max()],\n",
    "        [mean_reduction,mean_reduction], label='mean reduction')\n",
    "ax.set_ylabel('Energy demand [MW]')\n",
    "ax.legend()\n",
    "fig.savefig(os.path.join(save_dir, f'estimated_reduction_{smooth_str}_{model_trend_str}\\\n",
    "_{model_seasonal_str}_{model_damped_str}{img_fmt}'))"
   ]
  },
  {
   "cell_type": "markdown",
   "metadata": {},
   "source": [
    "## Output processed data\n"
   ]
  },
  {
   "cell_type": "code",
   "execution_count": null,
   "metadata": {},
   "outputs": [],
   "source": [
    "proc_data_dir = 'data/processed'\n",
    "if not os.path.exists(proc_data_dir):\n",
    "    os.makedirs(proc_data_dir)"
   ]
  },
  {
   "cell_type": "code",
   "execution_count": null,
   "metadata": {},
   "outputs": [],
   "source": [
    "file_name = 'uk_energy_demand_reduction.csv'\n",
    "file_path = os.path.join(proc_data_dir, file_name)"
   ]
  },
  {
   "cell_type": "code",
   "execution_count": null,
   "metadata": {},
   "outputs": [],
   "source": [
    "uk_energy_demand_2020.info()"
   ]
  },
  {
   "cell_type": "code",
   "execution_count": null,
   "metadata": {},
   "outputs": [],
   "source": [
    "uk_energy_demand_2020.to_csv(file_path)"
   ]
  }
 ],
 "metadata": {
  "kernelspec": {
   "display_name": "Python 3",
   "language": "python",
   "name": "python3"
  },
  "language_info": {
   "codemirror_mode": {
    "name": "ipython",
    "version": 3
   },
   "file_extension": ".py",
   "mimetype": "text/x-python",
   "name": "python",
   "nbconvert_exporter": "python",
   "pygments_lexer": "ipython3",
   "version": "3.7.7"
  }
 },
 "nbformat": 4,
 "nbformat_minor": 4
}
