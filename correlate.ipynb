{
 "cells": [
  {
   "cell_type": "markdown",
   "metadata": {},
   "source": [
    "# Correlate datasets"
   ]
  },
  {
   "cell_type": "code",
   "execution_count": 1,
   "metadata": {
    "tags": []
   },
   "outputs": [],
   "source": [
    "%load_ext autoreload\n",
    "%autoreload 2"
   ]
  },
  {
   "cell_type": "code",
   "execution_count": 2,
   "metadata": {},
   "outputs": [],
   "source": [
    "import pandas as pd\n",
    "from matplotlib import pyplot as plt\n",
    "import math"
   ]
  },
  {
   "cell_type": "code",
   "execution_count": 3,
   "metadata": {},
   "outputs": [],
   "source": [
    "import brsflufight_nerc2  as bff2"
   ]
  },
  {
   "cell_type": "markdown",
   "metadata": {},
   "source": [
    "## Prepare data"
   ]
  },
  {
   "cell_type": "code",
   "execution_count": 4,
   "metadata": {
    "tags": []
   },
   "outputs": [
    {
     "output_type": "stream",
     "name": "stdout",
     "text": "WARNING: \"PublicData_Countries_v6.xlsx\" not found in dictionary `file_read_functions`.\nA loading function must be defined in `data_access.default_file_read_functions`.\nWARNING: \"uk_energy_demand_reduction.csv\" not found in dictionary `file_read_functions`.\nA loading function must be defined in `data_access.default_file_read_functions`.\n"
    }
   ],
   "source": [
    "data_sets = bff2.load_data_files()"
   ]
  },
  {
   "cell_type": "markdown",
   "metadata": {},
   "source": [
    "Data is loaded into a `DataGroup` which is simply a dictionary which exposes the method `get_country`."
   ]
  },
  {
   "cell_type": "code",
   "execution_count": 5,
   "metadata": {
    "tags": []
   },
   "outputs": [
    {
     "output_type": "stream",
     "name": "stdout",
     "text": "Success: historical_GHG_Sectors_GCP\nSuccess: historical_GHG_Sectors_PIK\nSuccess: historical_GHG_Sectors_UNFCCC\nSuccess: mobility_apple\nFailed: United Kingdom not in mobility_citymapper\nSuccess: mobility_google\nSuccess: uk_energy_daily\n"
    }
   ],
   "source": [
    "country = 'United Kingdom'\n",
    "\n",
    "d_uk = data_sets.get_country(country)"
   ]
  },
  {
   "cell_type": "code",
   "execution_count": 6,
   "metadata": {},
   "outputs": [],
   "source": [
    "d_uk['uk_energy_yearly'] = d_uk['uk_energy_daily'].groupby(pd.Grouper(freq='1Y')).mean()"
   ]
  },
  {
   "cell_type": "markdown",
   "metadata": {},
   "source": [
    "## Choose analysis datasets"
   ]
  },
  {
   "cell_type": "markdown",
   "metadata": {},
   "source": [
    "First we define the datasets and the columns we want to correlate. Implicitely we are emitting the hypothesis:\n",
    "\n",
    "*Column C in dataset X is correlated to column D in dataset Y.*\n",
    "\n",
    "for all columns and datasets in the dictionary `to_correlate`"
   ]
  },
  {
   "cell_type": "code",
   "execution_count": 7,
   "metadata": {},
   "outputs": [],
   "source": [
    "gas = \"CO2\"\n",
    "cols_GCP = d_uk['historical_GHG_Sectors_GCP'].columns\n",
    "cols_GCP = [s for s in cols_GCP if f\"({gas})\" in s]\n",
    "\n",
    "to_correlate = {\n",
    "    'uk_energy_yearly': ['oil', 'ccgt', 'coal', 'demand'],\n",
    "    'historical_GHG_Sectors_GCP': cols_GCP,\n",
    "    'historical_GHG_Sectors_PIK': ['Energy (KYOTOGHG)', 'Energy (CO2)', 'Energy (N2O)', 'Energy (CH4)']\n",
    "}"
   ]
  },
  {
   "cell_type": "markdown",
   "metadata": {},
   "source": [
    "Once chosen we pass it to function [`correlate`](brsflufight_nerc2/model_predict.py) \n",
    "which calculates and returns all the correlation between the data sets as well as linear fits "
   ]
  },
  {
   "cell_type": "code",
   "execution_count": 8,
   "metadata": {
    "tags": []
   },
   "outputs": [
    {
     "output_type": "stream",
     "name": "stdout",
     "text": "Linear regression failed for: 'Bunkers (CO2)' fit to  'oil':\n  Message: Input contains NaN, infinity or a value too large for dtype('float64').\nLinear regression failed for: 'Bunkers (CO2)' fit to  'ccgt':\n  Message: Input contains NaN, infinity or a value too large for dtype('float64').\nLinear regression failed for: 'Bunkers (CO2)' fit to  'coal':\n  Message: Input contains NaN, infinity or a value too large for dtype('float64').\nLinear regression failed for: 'Bunkers (CO2)' fit to  'demand':\n  Message: Input contains NaN, infinity or a value too large for dtype('float64').\n"
    }
   ],
   "source": [
    "correlation_dict = bff2.correlate(selector=to_correlate,data_sets=d_uk,main_compare='uk_energy_yearly')"
   ]
  },
  {
   "cell_type": "markdown",
   "metadata": {},
   "source": [
    "`bff2.correlate` returns a dictionary of dictionaries corresponding to the datasets that were correlated to `main_compare` (in this case `'uk_energy_yearly'`).\n",
    "For each dataset 3 items are returned:\n",
    "\n",
    "  + a `'correlation'`: the pearson correlation coefficient between datasets;\n",
    "  + the merged `'data'` used for the correlation;\n",
    "  + a linear `'fit'` between the datasets done through `scikit-learn` `LinearRegression`;\n",
    " \n",
    "We can visualise the correlations to identify relationships of interest, we are looking for numbers close to 1."
   ]
  },
  {
   "cell_type": "code",
   "execution_count": 9,
   "metadata": {
    "tags": []
   },
   "outputs": [
    {
     "output_type": "stream",
     "name": "stdout",
     "text": "=====================================================================\nCorrelations in dataset 'historical_GHG_Sectors_GCP'\n_________________________________________________________\n"
    },
    {
     "output_type": "display_data",
     "data": {
      "text/plain": "<pandas.io.formats.style.Styler at 0x1abde72c808>",
      "text/html": "<style  type=\"text/css\" >\n    #T_ecce445a_b21e_11ea_b445_f8e4e3d5f2f4row0_col0 {\n            background-color:  #fff7fb;\n            color:  #000000;\n        }    #T_ecce445a_b21e_11ea_b445_f8e4e3d5f2f4row0_col1 {\n            background-color:  #fff7fb;\n            color:  #000000;\n        }    #T_ecce445a_b21e_11ea_b445_f8e4e3d5f2f4row0_col2 {\n            background-color:  #023858;\n            color:  #f1f1f1;\n        }    #T_ecce445a_b21e_11ea_b445_f8e4e3d5f2f4row0_col3 {\n            background-color:  #f0eaf4;\n            color:  #000000;\n        }    #T_ecce445a_b21e_11ea_b445_f8e4e3d5f2f4row0_col4 {\n            background-color:  #fff7fb;\n            color:  #000000;\n        }    #T_ecce445a_b21e_11ea_b445_f8e4e3d5f2f4row0_col5 {\n            background-color:  #fff7fb;\n            color:  #000000;\n        }    #T_ecce445a_b21e_11ea_b445_f8e4e3d5f2f4row0_col6 {\n            background-color:  #023858;\n            color:  #f1f1f1;\n        }    #T_ecce445a_b21e_11ea_b445_f8e4e3d5f2f4row1_col0 {\n            background-color:  #fff7fb;\n            color:  #000000;\n        }    #T_ecce445a_b21e_11ea_b445_f8e4e3d5f2f4row1_col1 {\n            background-color:  #023858;\n            color:  #f1f1f1;\n        }    #T_ecce445a_b21e_11ea_b445_f8e4e3d5f2f4row1_col2 {\n            background-color:  #fff7fb;\n            color:  #000000;\n        }    #T_ecce445a_b21e_11ea_b445_f8e4e3d5f2f4row1_col3 {\n            background-color:  #023858;\n            color:  #f1f1f1;\n        }    #T_ecce445a_b21e_11ea_b445_f8e4e3d5f2f4row1_col4 {\n            background-color:  #023858;\n            color:  #f1f1f1;\n        }    #T_ecce445a_b21e_11ea_b445_f8e4e3d5f2f4row1_col5 {\n            background-color:  #023858;\n            color:  #f1f1f1;\n        }    #T_ecce445a_b21e_11ea_b445_f8e4e3d5f2f4row1_col6 {\n            background-color:  #fff7fb;\n            color:  #000000;\n        }    #T_ecce445a_b21e_11ea_b445_f8e4e3d5f2f4row2_col0 {\n            background-color:  #fff7fb;\n            color:  #000000;\n        }    #T_ecce445a_b21e_11ea_b445_f8e4e3d5f2f4row2_col1 {\n            background-color:  #eee8f3;\n            color:  #000000;\n        }    #T_ecce445a_b21e_11ea_b445_f8e4e3d5f2f4row2_col2 {\n            background-color:  #03456c;\n            color:  #f1f1f1;\n        }    #T_ecce445a_b21e_11ea_b445_f8e4e3d5f2f4row2_col3 {\n            background-color:  #fff7fb;\n            color:  #000000;\n        }    #T_ecce445a_b21e_11ea_b445_f8e4e3d5f2f4row2_col4 {\n            background-color:  #f3edf5;\n            color:  #000000;\n        }    #T_ecce445a_b21e_11ea_b445_f8e4e3d5f2f4row2_col5 {\n            background-color:  #fef6fb;\n            color:  #000000;\n        }    #T_ecce445a_b21e_11ea_b445_f8e4e3d5f2f4row2_col6 {\n            background-color:  #03456c;\n            color:  #f1f1f1;\n        }    #T_ecce445a_b21e_11ea_b445_f8e4e3d5f2f4row3_col0 {\n            background-color:  #fff7fb;\n            color:  #000000;\n        }    #T_ecce445a_b21e_11ea_b445_f8e4e3d5f2f4row3_col1 {\n            background-color:  #eee8f3;\n            color:  #000000;\n        }    #T_ecce445a_b21e_11ea_b445_f8e4e3d5f2f4row3_col2 {\n            background-color:  #03456c;\n            color:  #f1f1f1;\n        }    #T_ecce445a_b21e_11ea_b445_f8e4e3d5f2f4row3_col3 {\n            background-color:  #fff7fb;\n            color:  #000000;\n        }    #T_ecce445a_b21e_11ea_b445_f8e4e3d5f2f4row3_col4 {\n            background-color:  #f3edf5;\n            color:  #000000;\n        }    #T_ecce445a_b21e_11ea_b445_f8e4e3d5f2f4row3_col5 {\n            background-color:  #fef6fb;\n            color:  #000000;\n        }    #T_ecce445a_b21e_11ea_b445_f8e4e3d5f2f4row3_col6 {\n            background-color:  #03456c;\n            color:  #f1f1f1;\n        }</style><table id=\"T_ecce445a_b21e_11ea_b445_f8e4e3d5f2f4\" ><thead>    <tr>        <th class=\"blank level0\" ></th>        <th class=\"col_heading level0 col0\" >Bunkers (CO2)</th>        <th class=\"col_heading level0 col1\" >Cement (CO2)</th>        <th class=\"col_heading level0 col2\" >Coal (CO2)</th>        <th class=\"col_heading level0 col3\" >Gas (CO2)</th>        <th class=\"col_heading level0 col4\" >Gas flaring (CO2)</th>        <th class=\"col_heading level0 col5\" >Oil (CO2)</th>        <th class=\"col_heading level0 col6\" >Total fossil fuels and cement (CO2)</th>    </tr></thead><tbody>\n                <tr>\n                        <th id=\"T_ecce445a_b21e_11ea_b445_f8e4e3d5f2f4level0_row0\" class=\"row_heading level0 row0\" >oil</th>\n                        <td id=\"T_ecce445a_b21e_11ea_b445_f8e4e3d5f2f4row0_col0\" class=\"data row0 col0\" >nan</td>\n                        <td id=\"T_ecce445a_b21e_11ea_b445_f8e4e3d5f2f4row0_col1\" class=\"data row0 col1\" >-0.673</td>\n                        <td id=\"T_ecce445a_b21e_11ea_b445_f8e4e3d5f2f4row0_col2\" class=\"data row0 col2\" >0.955</td>\n                        <td id=\"T_ecce445a_b21e_11ea_b445_f8e4e3d5f2f4row0_col3\" class=\"data row0 col3\" >-0.595</td>\n                        <td id=\"T_ecce445a_b21e_11ea_b445_f8e4e3d5f2f4row0_col4\" class=\"data row0 col4\" >-0.745</td>\n                        <td id=\"T_ecce445a_b21e_11ea_b445_f8e4e3d5f2f4row0_col5\" class=\"data row0 col5\" >-0.901</td>\n                        <td id=\"T_ecce445a_b21e_11ea_b445_f8e4e3d5f2f4row0_col6\" class=\"data row0 col6\" >0.955</td>\n            </tr>\n            <tr>\n                        <th id=\"T_ecce445a_b21e_11ea_b445_f8e4e3d5f2f4level0_row1\" class=\"row_heading level0 row1\" >ccgt</th>\n                        <td id=\"T_ecce445a_b21e_11ea_b445_f8e4e3d5f2f4row1_col0\" class=\"data row1 col0\" >nan</td>\n                        <td id=\"T_ecce445a_b21e_11ea_b445_f8e4e3d5f2f4row1_col1\" class=\"data row1 col1\" >0.000</td>\n                        <td id=\"T_ecce445a_b21e_11ea_b445_f8e4e3d5f2f4row1_col2\" class=\"data row1 col2\" >-0.321</td>\n                        <td id=\"T_ecce445a_b21e_11ea_b445_f8e4e3d5f2f4row1_col3\" class=\"data row1 col3\" >0.464</td>\n                        <td id=\"T_ecce445a_b21e_11ea_b445_f8e4e3d5f2f4row1_col4\" class=\"data row1 col4\" >0.252</td>\n                        <td id=\"T_ecce445a_b21e_11ea_b445_f8e4e3d5f2f4row1_col5\" class=\"data row1 col5\" >0.643</td>\n                        <td id=\"T_ecce445a_b21e_11ea_b445_f8e4e3d5f2f4row1_col6\" class=\"data row1 col6\" >-0.321</td>\n            </tr>\n            <tr>\n                        <th id=\"T_ecce445a_b21e_11ea_b445_f8e4e3d5f2f4level0_row2\" class=\"row_heading level0 row2\" >coal</th>\n                        <td id=\"T_ecce445a_b21e_11ea_b445_f8e4e3d5f2f4row2_col0\" class=\"data row2 col0\" >nan</td>\n                        <td id=\"T_ecce445a_b21e_11ea_b445_f8e4e3d5f2f4row2_col1\" class=\"data row2 col1\" >-0.595</td>\n                        <td id=\"T_ecce445a_b21e_11ea_b445_f8e4e3d5f2f4row2_col2\" class=\"data row2 col2\" >0.893</td>\n                        <td id=\"T_ecce445a_b21e_11ea_b445_f8e4e3d5f2f4row2_col3\" class=\"data row2 col3\" >-0.714</td>\n                        <td id=\"T_ecce445a_b21e_11ea_b445_f8e4e3d5f2f4row2_col4\" class=\"data row2 col4\" >-0.667</td>\n                        <td id=\"T_ecce445a_b21e_11ea_b445_f8e4e3d5f2f4row2_col5\" class=\"data row2 col5\" >-0.893</td>\n                        <td id=\"T_ecce445a_b21e_11ea_b445_f8e4e3d5f2f4row2_col6\" class=\"data row2 col6\" >0.893</td>\n            </tr>\n            <tr>\n                        <th id=\"T_ecce445a_b21e_11ea_b445_f8e4e3d5f2f4level0_row3\" class=\"row_heading level0 row3\" >demand</th>\n                        <td id=\"T_ecce445a_b21e_11ea_b445_f8e4e3d5f2f4row3_col0\" class=\"data row3 col0\" >nan</td>\n                        <td id=\"T_ecce445a_b21e_11ea_b445_f8e4e3d5f2f4row3_col1\" class=\"data row3 col1\" >-0.595</td>\n                        <td id=\"T_ecce445a_b21e_11ea_b445_f8e4e3d5f2f4row3_col2\" class=\"data row3 col2\" >0.893</td>\n                        <td id=\"T_ecce445a_b21e_11ea_b445_f8e4e3d5f2f4row3_col3\" class=\"data row3 col3\" >-0.714</td>\n                        <td id=\"T_ecce445a_b21e_11ea_b445_f8e4e3d5f2f4row3_col4\" class=\"data row3 col4\" >-0.667</td>\n                        <td id=\"T_ecce445a_b21e_11ea_b445_f8e4e3d5f2f4row3_col5\" class=\"data row3 col5\" >-0.893</td>\n                        <td id=\"T_ecce445a_b21e_11ea_b445_f8e4e3d5f2f4row3_col6\" class=\"data row3 col6\" >0.893</td>\n            </tr>\n    </tbody></table>"
     },
     "metadata": {}
    },
    {
     "output_type": "stream",
     "name": "stdout",
     "text": "=====================================================================\n\n=====================================================================\nCorrelations in dataset 'historical_GHG_Sectors_PIK'\n_________________________________________________________\n"
    },
    {
     "output_type": "display_data",
     "data": {
      "text/plain": "<pandas.io.formats.style.Styler at 0x1abdea27588>",
      "text/html": "<style  type=\"text/css\" >\n    #T_ecd485e6_b21e_11ea_a37c_f8e4e3d5f2f4row0_col0 {\n            background-color:  #023858;\n            color:  #f1f1f1;\n        }    #T_ecd485e6_b21e_11ea_a37c_f8e4e3d5f2f4row0_col1 {\n            background-color:  #023858;\n            color:  #f1f1f1;\n        }    #T_ecd485e6_b21e_11ea_a37c_f8e4e3d5f2f4row0_col2 {\n            background-color:  #023858;\n            color:  #f1f1f1;\n        }    #T_ecd485e6_b21e_11ea_a37c_f8e4e3d5f2f4row0_col3 {\n            background-color:  #023858;\n            color:  #f1f1f1;\n        }    #T_ecd485e6_b21e_11ea_a37c_f8e4e3d5f2f4row1_col0 {\n            background-color:  #fff7fb;\n            color:  #000000;\n        }    #T_ecd485e6_b21e_11ea_a37c_f8e4e3d5f2f4row1_col1 {\n            background-color:  #fff7fb;\n            color:  #000000;\n        }    #T_ecd485e6_b21e_11ea_a37c_f8e4e3d5f2f4row1_col2 {\n            background-color:  #fff7fb;\n            color:  #000000;\n        }    #T_ecd485e6_b21e_11ea_a37c_f8e4e3d5f2f4row1_col3 {\n            background-color:  #fff7fb;\n            color:  #000000;\n        }    #T_ecd485e6_b21e_11ea_a37c_f8e4e3d5f2f4row2_col0 {\n            background-color:  #03517e;\n            color:  #f1f1f1;\n        }    #T_ecd485e6_b21e_11ea_a37c_f8e4e3d5f2f4row2_col1 {\n            background-color:  #03517e;\n            color:  #f1f1f1;\n        }    #T_ecd485e6_b21e_11ea_a37c_f8e4e3d5f2f4row2_col2 {\n            background-color:  #2685bb;\n            color:  #000000;\n        }    #T_ecd485e6_b21e_11ea_a37c_f8e4e3d5f2f4row2_col3 {\n            background-color:  #045687;\n            color:  #f1f1f1;\n        }    #T_ecd485e6_b21e_11ea_a37c_f8e4e3d5f2f4row3_col0 {\n            background-color:  #03517e;\n            color:  #f1f1f1;\n        }    #T_ecd485e6_b21e_11ea_a37c_f8e4e3d5f2f4row3_col1 {\n            background-color:  #03517e;\n            color:  #f1f1f1;\n        }    #T_ecd485e6_b21e_11ea_a37c_f8e4e3d5f2f4row3_col2 {\n            background-color:  #2685bb;\n            color:  #000000;\n        }    #T_ecd485e6_b21e_11ea_a37c_f8e4e3d5f2f4row3_col3 {\n            background-color:  #045687;\n            color:  #f1f1f1;\n        }</style><table id=\"T_ecd485e6_b21e_11ea_a37c_f8e4e3d5f2f4\" ><thead>    <tr>        <th class=\"blank level0\" ></th>        <th class=\"col_heading level0 col0\" >Energy (KYOTOGHG)</th>        <th class=\"col_heading level0 col1\" >Energy (CO2)</th>        <th class=\"col_heading level0 col2\" >Energy (N2O)</th>        <th class=\"col_heading level0 col3\" >Energy (CH4)</th>    </tr></thead><tbody>\n                <tr>\n                        <th id=\"T_ecd485e6_b21e_11ea_a37c_f8e4e3d5f2f4level0_row0\" class=\"row_heading level0 row0\" >oil</th>\n                        <td id=\"T_ecd485e6_b21e_11ea_a37c_f8e4e3d5f2f4row0_col0\" class=\"data row0 col0\" >0.943</td>\n                        <td id=\"T_ecd485e6_b21e_11ea_a37c_f8e4e3d5f2f4row0_col1\" class=\"data row0 col1\" >0.943</td>\n                        <td id=\"T_ecd485e6_b21e_11ea_a37c_f8e4e3d5f2f4row0_col2\" class=\"data row0 col2\" >0.657</td>\n                        <td id=\"T_ecd485e6_b21e_11ea_a37c_f8e4e3d5f2f4row0_col3\" class=\"data row0 col3\" >0.886</td>\n            </tr>\n            <tr>\n                        <th id=\"T_ecd485e6_b21e_11ea_a37c_f8e4e3d5f2f4level0_row1\" class=\"row_heading level0 row1\" >ccgt</th>\n                        <td id=\"T_ecd485e6_b21e_11ea_a37c_f8e4e3d5f2f4row1_col0\" class=\"data row1 col0\" >-0.314</td>\n                        <td id=\"T_ecd485e6_b21e_11ea_a37c_f8e4e3d5f2f4row1_col1\" class=\"data row1 col1\" >-0.314</td>\n                        <td id=\"T_ecd485e6_b21e_11ea_a37c_f8e4e3d5f2f4row1_col2\" class=\"data row1 col2\" >0.143</td>\n                        <td id=\"T_ecd485e6_b21e_11ea_a37c_f8e4e3d5f2f4row1_col3\" class=\"data row1 col3\" >-0.143</td>\n            </tr>\n            <tr>\n                        <th id=\"T_ecd485e6_b21e_11ea_a37c_f8e4e3d5f2f4level0_row2\" class=\"row_heading level0 row2\" >coal</th>\n                        <td id=\"T_ecd485e6_b21e_11ea_a37c_f8e4e3d5f2f4row2_col0\" class=\"data row2 col0\" >0.829</td>\n                        <td id=\"T_ecd485e6_b21e_11ea_a37c_f8e4e3d5f2f4row2_col1\" class=\"data row2 col1\" >0.829</td>\n                        <td id=\"T_ecd485e6_b21e_11ea_a37c_f8e4e3d5f2f4row2_col2\" class=\"data row2 col2\" >0.486</td>\n                        <td id=\"T_ecd485e6_b21e_11ea_a37c_f8e4e3d5f2f4row2_col3\" class=\"data row2 col3\" >0.771</td>\n            </tr>\n            <tr>\n                        <th id=\"T_ecd485e6_b21e_11ea_a37c_f8e4e3d5f2f4level0_row3\" class=\"row_heading level0 row3\" >demand</th>\n                        <td id=\"T_ecd485e6_b21e_11ea_a37c_f8e4e3d5f2f4row3_col0\" class=\"data row3 col0\" >0.829</td>\n                        <td id=\"T_ecd485e6_b21e_11ea_a37c_f8e4e3d5f2f4row3_col1\" class=\"data row3 col1\" >0.829</td>\n                        <td id=\"T_ecd485e6_b21e_11ea_a37c_f8e4e3d5f2f4row3_col2\" class=\"data row3 col2\" >0.486</td>\n                        <td id=\"T_ecd485e6_b21e_11ea_a37c_f8e4e3d5f2f4row3_col3\" class=\"data row3 col3\" >0.771</td>\n            </tr>\n    </tbody></table>"
     },
     "metadata": {}
    },
    {
     "output_type": "stream",
     "name": "stdout",
     "text": "=====================================================================\n\n"
    }
   ],
   "source": [
    "for dset in correlation_dict:\n",
    "    print(\"=====================================================================\")\n",
    "    print(f\"Correlations in dataset '{dset}'\")\n",
    "    print(\"_________________________________________________________\")\n",
    "    display(\n",
    "        correlation_dict[dset]['correlation']\n",
    "        .style.background_gradient().set_precision(3)\n",
    "    )\n",
    "    print(\"=====================================================================\")\n",
    "    print(\"\")"
   ]
  },
  {
   "cell_type": "markdown",
   "metadata": {},
   "source": [
    "Before predicting the emissions based on GHG let us check what the data from which we predict is like"
   ]
  },
  {
   "cell_type": "code",
   "execution_count": 10,
   "metadata": {},
   "outputs": [
    {
     "output_type": "execute_result",
     "data": {
      "text/plain": "             oil          ccgt          coal        demand\ncount  10.000000     10.000000     10.000000     10.000000\nmean    0.525281  11627.876430   6953.506175  33026.266552\nstd     0.756537   2222.518145   5846.998852   2587.496620\nmin     0.000000   9148.029085    679.510313  28489.144958\n25%     0.001103   9636.630307   1912.358057  31558.536708\n50%     0.154770  11489.689029   5852.376027  32712.718536\n75%     0.796898  13560.434154  11184.139849  34955.428258\nmax     2.309853  14506.012432  15641.439384  36581.013455",
      "text/html": "<div>\n<style scoped>\n    .dataframe tbody tr th:only-of-type {\n        vertical-align: middle;\n    }\n\n    .dataframe tbody tr th {\n        vertical-align: top;\n    }\n\n    .dataframe thead th {\n        text-align: right;\n    }\n</style>\n<table border=\"1\" class=\"dataframe\">\n  <thead>\n    <tr style=\"text-align: right;\">\n      <th></th>\n      <th>oil</th>\n      <th>ccgt</th>\n      <th>coal</th>\n      <th>demand</th>\n    </tr>\n  </thead>\n  <tbody>\n    <tr>\n      <th>count</th>\n      <td>10.000000</td>\n      <td>10.000000</td>\n      <td>10.000000</td>\n      <td>10.000000</td>\n    </tr>\n    <tr>\n      <th>mean</th>\n      <td>0.525281</td>\n      <td>11627.876430</td>\n      <td>6953.506175</td>\n      <td>33026.266552</td>\n    </tr>\n    <tr>\n      <th>std</th>\n      <td>0.756537</td>\n      <td>2222.518145</td>\n      <td>5846.998852</td>\n      <td>2587.496620</td>\n    </tr>\n    <tr>\n      <th>min</th>\n      <td>0.000000</td>\n      <td>9148.029085</td>\n      <td>679.510313</td>\n      <td>28489.144958</td>\n    </tr>\n    <tr>\n      <th>25%</th>\n      <td>0.001103</td>\n      <td>9636.630307</td>\n      <td>1912.358057</td>\n      <td>31558.536708</td>\n    </tr>\n    <tr>\n      <th>50%</th>\n      <td>0.154770</td>\n      <td>11489.689029</td>\n      <td>5852.376027</td>\n      <td>32712.718536</td>\n    </tr>\n    <tr>\n      <th>75%</th>\n      <td>0.796898</td>\n      <td>13560.434154</td>\n      <td>11184.139849</td>\n      <td>34955.428258</td>\n    </tr>\n    <tr>\n      <th>max</th>\n      <td>2.309853</td>\n      <td>14506.012432</td>\n      <td>15641.439384</td>\n      <td>36581.013455</td>\n    </tr>\n  </tbody>\n</table>\n</div>"
     },
     "metadata": {},
     "execution_count": 10
    },
    {
     "output_type": "display_data",
     "data": {
      "text/plain": "<Figure size 432x288 with 1 Axes>",
      "image/svg+xml": "<?xml version=\"1.0\" encoding=\"utf-8\" standalone=\"no\"?>\r\n<!DOCTYPE svg PUBLIC \"-//W3C//DTD SVG 1.1//EN\"\r\n  \"http://www.w3.org/Graphics/SVG/1.1/DTD/svg11.dtd\">\r\n<!-- Created with matplotlib (https://matplotlib.org/) -->\r\n<svg height=\"262.19625pt\" version=\"1.1\" viewBox=\"0 0 400.7375 262.19625\" width=\"400.7375pt\" xmlns=\"http://www.w3.org/2000/svg\" xmlns:xlink=\"http://www.w3.org/1999/xlink\">\r\n <defs>\r\n  <style type=\"text/css\">\r\n*{stroke-linecap:butt;stroke-linejoin:round;}\r\n  </style>\r\n </defs>\r\n <g id=\"figure_1\">\r\n  <g id=\"patch_1\">\r\n   <path d=\"M 0 262.19625 \r\nL 400.7375 262.19625 \r\nL 400.7375 0 \r\nL 0 0 \r\nz\r\n\" style=\"fill:none;\"/>\r\n  </g>\r\n  <g id=\"axes_1\">\r\n   <g id=\"patch_2\">\r\n    <path d=\"M 46.0125 224.64 \r\nL 380.8125 224.64 \r\nL 380.8125 7.2 \r\nL 46.0125 7.2 \r\nz\r\n\" style=\"fill:#ffffff;\"/>\r\n   </g>\r\n   <g id=\"matplotlib.axis_1\">\r\n    <g id=\"xtick_1\">\r\n     <g id=\"line2d_1\">\r\n      <defs>\r\n       <path d=\"M 0 0 \r\nL 0 3.5 \r\n\" id=\"me5f12f74c5\" style=\"stroke:#000000;stroke-width:0.8;\"/>\r\n      </defs>\r\n      <g>\r\n       <use style=\"stroke:#000000;stroke-width:0.8;\" x=\"83.2125\" xlink:href=\"#me5f12f74c5\" y=\"224.64\"/>\r\n      </g>\r\n     </g>\r\n     <g id=\"text_1\">\r\n      <!-- 2012 -->\r\n      <defs>\r\n       <path d=\"M 19.1875 8.296875 \r\nL 53.609375 8.296875 \r\nL 53.609375 0 \r\nL 7.328125 0 \r\nL 7.328125 8.296875 \r\nQ 12.9375 14.109375 22.625 23.890625 \r\nQ 32.328125 33.6875 34.8125 36.53125 \r\nQ 39.546875 41.84375 41.421875 45.53125 \r\nQ 43.3125 49.21875 43.3125 52.78125 \r\nQ 43.3125 58.59375 39.234375 62.25 \r\nQ 35.15625 65.921875 28.609375 65.921875 \r\nQ 23.96875 65.921875 18.8125 64.3125 \r\nQ 13.671875 62.703125 7.8125 59.421875 \r\nL 7.8125 69.390625 \r\nQ 13.765625 71.78125 18.9375 73 \r\nQ 24.125 74.21875 28.421875 74.21875 \r\nQ 39.75 74.21875 46.484375 68.546875 \r\nQ 53.21875 62.890625 53.21875 53.421875 \r\nQ 53.21875 48.921875 51.53125 44.890625 \r\nQ 49.859375 40.875 45.40625 35.40625 \r\nQ 44.1875 33.984375 37.640625 27.21875 \r\nQ 31.109375 20.453125 19.1875 8.296875 \r\nz\r\n\" id=\"DejaVuSans-50\"/>\r\n       <path d=\"M 31.78125 66.40625 \r\nQ 24.171875 66.40625 20.328125 58.90625 \r\nQ 16.5 51.421875 16.5 36.375 \r\nQ 16.5 21.390625 20.328125 13.890625 \r\nQ 24.171875 6.390625 31.78125 6.390625 \r\nQ 39.453125 6.390625 43.28125 13.890625 \r\nQ 47.125 21.390625 47.125 36.375 \r\nQ 47.125 51.421875 43.28125 58.90625 \r\nQ 39.453125 66.40625 31.78125 66.40625 \r\nz\r\nM 31.78125 74.21875 \r\nQ 44.046875 74.21875 50.515625 64.515625 \r\nQ 56.984375 54.828125 56.984375 36.375 \r\nQ 56.984375 17.96875 50.515625 8.265625 \r\nQ 44.046875 -1.421875 31.78125 -1.421875 \r\nQ 19.53125 -1.421875 13.0625 8.265625 \r\nQ 6.59375 17.96875 6.59375 36.375 \r\nQ 6.59375 54.828125 13.0625 64.515625 \r\nQ 19.53125 74.21875 31.78125 74.21875 \r\nz\r\n\" id=\"DejaVuSans-48\"/>\r\n       <path d=\"M 12.40625 8.296875 \r\nL 28.515625 8.296875 \r\nL 28.515625 63.921875 \r\nL 10.984375 60.40625 \r\nL 10.984375 69.390625 \r\nL 28.421875 72.90625 \r\nL 38.28125 72.90625 \r\nL 38.28125 8.296875 \r\nL 54.390625 8.296875 \r\nL 54.390625 0 \r\nL 12.40625 0 \r\nz\r\n\" id=\"DejaVuSans-49\"/>\r\n      </defs>\r\n      <g transform=\"translate(70.4875 239.238437)scale(0.1 -0.1)\">\r\n       <use xlink:href=\"#DejaVuSans-50\"/>\r\n       <use x=\"63.623047\" xlink:href=\"#DejaVuSans-48\"/>\r\n       <use x=\"127.246094\" xlink:href=\"#DejaVuSans-49\"/>\r\n       <use x=\"190.869141\" xlink:href=\"#DejaVuSans-50\"/>\r\n      </g>\r\n     </g>\r\n    </g>\r\n    <g id=\"xtick_2\">\r\n     <g id=\"line2d_2\">\r\n      <g>\r\n       <use style=\"stroke:#000000;stroke-width:0.8;\" x=\"157.6125\" xlink:href=\"#me5f12f74c5\" y=\"224.64\"/>\r\n      </g>\r\n     </g>\r\n     <g id=\"text_2\">\r\n      <!-- 2014 -->\r\n      <defs>\r\n       <path d=\"M 37.796875 64.3125 \r\nL 12.890625 25.390625 \r\nL 37.796875 25.390625 \r\nz\r\nM 35.203125 72.90625 \r\nL 47.609375 72.90625 \r\nL 47.609375 25.390625 \r\nL 58.015625 25.390625 \r\nL 58.015625 17.1875 \r\nL 47.609375 17.1875 \r\nL 47.609375 0 \r\nL 37.796875 0 \r\nL 37.796875 17.1875 \r\nL 4.890625 17.1875 \r\nL 4.890625 26.703125 \r\nz\r\n\" id=\"DejaVuSans-52\"/>\r\n      </defs>\r\n      <g transform=\"translate(144.8875 239.238437)scale(0.1 -0.1)\">\r\n       <use xlink:href=\"#DejaVuSans-50\"/>\r\n       <use x=\"63.623047\" xlink:href=\"#DejaVuSans-48\"/>\r\n       <use x=\"127.246094\" xlink:href=\"#DejaVuSans-49\"/>\r\n       <use x=\"190.869141\" xlink:href=\"#DejaVuSans-52\"/>\r\n      </g>\r\n     </g>\r\n    </g>\r\n    <g id=\"xtick_3\">\r\n     <g id=\"line2d_3\">\r\n      <g>\r\n       <use style=\"stroke:#000000;stroke-width:0.8;\" x=\"232.0125\" xlink:href=\"#me5f12f74c5\" y=\"224.64\"/>\r\n      </g>\r\n     </g>\r\n     <g id=\"text_3\">\r\n      <!-- 2016 -->\r\n      <defs>\r\n       <path d=\"M 33.015625 40.375 \r\nQ 26.375 40.375 22.484375 35.828125 \r\nQ 18.609375 31.296875 18.609375 23.390625 \r\nQ 18.609375 15.53125 22.484375 10.953125 \r\nQ 26.375 6.390625 33.015625 6.390625 \r\nQ 39.65625 6.390625 43.53125 10.953125 \r\nQ 47.40625 15.53125 47.40625 23.390625 \r\nQ 47.40625 31.296875 43.53125 35.828125 \r\nQ 39.65625 40.375 33.015625 40.375 \r\nz\r\nM 52.59375 71.296875 \r\nL 52.59375 62.3125 \r\nQ 48.875 64.0625 45.09375 64.984375 \r\nQ 41.3125 65.921875 37.59375 65.921875 \r\nQ 27.828125 65.921875 22.671875 59.328125 \r\nQ 17.53125 52.734375 16.796875 39.40625 \r\nQ 19.671875 43.65625 24.015625 45.921875 \r\nQ 28.375 48.1875 33.59375 48.1875 \r\nQ 44.578125 48.1875 50.953125 41.515625 \r\nQ 57.328125 34.859375 57.328125 23.390625 \r\nQ 57.328125 12.15625 50.6875 5.359375 \r\nQ 44.046875 -1.421875 33.015625 -1.421875 \r\nQ 20.359375 -1.421875 13.671875 8.265625 \r\nQ 6.984375 17.96875 6.984375 36.375 \r\nQ 6.984375 53.65625 15.1875 63.9375 \r\nQ 23.390625 74.21875 37.203125 74.21875 \r\nQ 40.921875 74.21875 44.703125 73.484375 \r\nQ 48.484375 72.75 52.59375 71.296875 \r\nz\r\n\" id=\"DejaVuSans-54\"/>\r\n      </defs>\r\n      <g transform=\"translate(219.2875 239.238437)scale(0.1 -0.1)\">\r\n       <use xlink:href=\"#DejaVuSans-50\"/>\r\n       <use x=\"63.623047\" xlink:href=\"#DejaVuSans-48\"/>\r\n       <use x=\"127.246094\" xlink:href=\"#DejaVuSans-49\"/>\r\n       <use x=\"190.869141\" xlink:href=\"#DejaVuSans-54\"/>\r\n      </g>\r\n     </g>\r\n    </g>\r\n    <g id=\"xtick_4\">\r\n     <g id=\"line2d_4\">\r\n      <g>\r\n       <use style=\"stroke:#000000;stroke-width:0.8;\" x=\"306.4125\" xlink:href=\"#me5f12f74c5\" y=\"224.64\"/>\r\n      </g>\r\n     </g>\r\n     <g id=\"text_4\">\r\n      <!-- 2018 -->\r\n      <defs>\r\n       <path d=\"M 31.78125 34.625 \r\nQ 24.75 34.625 20.71875 30.859375 \r\nQ 16.703125 27.09375 16.703125 20.515625 \r\nQ 16.703125 13.921875 20.71875 10.15625 \r\nQ 24.75 6.390625 31.78125 6.390625 \r\nQ 38.8125 6.390625 42.859375 10.171875 \r\nQ 46.921875 13.96875 46.921875 20.515625 \r\nQ 46.921875 27.09375 42.890625 30.859375 \r\nQ 38.875 34.625 31.78125 34.625 \r\nz\r\nM 21.921875 38.8125 \r\nQ 15.578125 40.375 12.03125 44.71875 \r\nQ 8.5 49.078125 8.5 55.328125 \r\nQ 8.5 64.0625 14.71875 69.140625 \r\nQ 20.953125 74.21875 31.78125 74.21875 \r\nQ 42.671875 74.21875 48.875 69.140625 \r\nQ 55.078125 64.0625 55.078125 55.328125 \r\nQ 55.078125 49.078125 51.53125 44.71875 \r\nQ 48 40.375 41.703125 38.8125 \r\nQ 48.828125 37.15625 52.796875 32.3125 \r\nQ 56.78125 27.484375 56.78125 20.515625 \r\nQ 56.78125 9.90625 50.3125 4.234375 \r\nQ 43.84375 -1.421875 31.78125 -1.421875 \r\nQ 19.734375 -1.421875 13.25 4.234375 \r\nQ 6.78125 9.90625 6.78125 20.515625 \r\nQ 6.78125 27.484375 10.78125 32.3125 \r\nQ 14.796875 37.15625 21.921875 38.8125 \r\nz\r\nM 18.3125 54.390625 \r\nQ 18.3125 48.734375 21.84375 45.5625 \r\nQ 25.390625 42.390625 31.78125 42.390625 \r\nQ 38.140625 42.390625 41.71875 45.5625 \r\nQ 45.3125 48.734375 45.3125 54.390625 \r\nQ 45.3125 60.0625 41.71875 63.234375 \r\nQ 38.140625 66.40625 31.78125 66.40625 \r\nQ 25.390625 66.40625 21.84375 63.234375 \r\nQ 18.3125 60.0625 18.3125 54.390625 \r\nz\r\n\" id=\"DejaVuSans-56\"/>\r\n      </defs>\r\n      <g transform=\"translate(293.6875 239.238437)scale(0.1 -0.1)\">\r\n       <use xlink:href=\"#DejaVuSans-50\"/>\r\n       <use x=\"63.623047\" xlink:href=\"#DejaVuSans-48\"/>\r\n       <use x=\"127.246094\" xlink:href=\"#DejaVuSans-49\"/>\r\n       <use x=\"190.869141\" xlink:href=\"#DejaVuSans-56\"/>\r\n      </g>\r\n     </g>\r\n    </g>\r\n    <g id=\"xtick_5\">\r\n     <g id=\"line2d_5\">\r\n      <g>\r\n       <use style=\"stroke:#000000;stroke-width:0.8;\" x=\"380.8125\" xlink:href=\"#me5f12f74c5\" y=\"224.64\"/>\r\n      </g>\r\n     </g>\r\n     <g id=\"text_5\">\r\n      <!-- 2020 -->\r\n      <g transform=\"translate(368.0875 239.238437)scale(0.1 -0.1)\">\r\n       <use xlink:href=\"#DejaVuSans-50\"/>\r\n       <use x=\"63.623047\" xlink:href=\"#DejaVuSans-48\"/>\r\n       <use x=\"127.246094\" xlink:href=\"#DejaVuSans-50\"/>\r\n       <use x=\"190.869141\" xlink:href=\"#DejaVuSans-48\"/>\r\n      </g>\r\n     </g>\r\n    </g>\r\n    <g id=\"xtick_6\">\r\n     <g id=\"line2d_6\">\r\n      <defs>\r\n       <path d=\"M 0 0 \r\nL 0 2 \r\n\" id=\"ma2af9b47d0\" style=\"stroke:#000000;stroke-width:0.6;\"/>\r\n      </defs>\r\n      <g>\r\n       <use style=\"stroke:#000000;stroke-width:0.6;\" x=\"46.0125\" xlink:href=\"#ma2af9b47d0\" y=\"224.64\"/>\r\n      </g>\r\n     </g>\r\n    </g>\r\n    <g id=\"xtick_7\">\r\n     <g id=\"line2d_7\">\r\n      <g>\r\n       <use style=\"stroke:#000000;stroke-width:0.6;\" x=\"120.4125\" xlink:href=\"#ma2af9b47d0\" y=\"224.64\"/>\r\n      </g>\r\n     </g>\r\n    </g>\r\n    <g id=\"xtick_8\">\r\n     <g id=\"line2d_8\">\r\n      <g>\r\n       <use style=\"stroke:#000000;stroke-width:0.6;\" x=\"194.8125\" xlink:href=\"#ma2af9b47d0\" y=\"224.64\"/>\r\n      </g>\r\n     </g>\r\n    </g>\r\n    <g id=\"xtick_9\">\r\n     <g id=\"line2d_9\">\r\n      <g>\r\n       <use style=\"stroke:#000000;stroke-width:0.6;\" x=\"269.2125\" xlink:href=\"#ma2af9b47d0\" y=\"224.64\"/>\r\n      </g>\r\n     </g>\r\n    </g>\r\n    <g id=\"xtick_10\">\r\n     <g id=\"line2d_10\">\r\n      <g>\r\n       <use style=\"stroke:#000000;stroke-width:0.6;\" x=\"343.6125\" xlink:href=\"#ma2af9b47d0\" y=\"224.64\"/>\r\n      </g>\r\n     </g>\r\n    </g>\r\n    <g id=\"text_6\">\r\n     <!-- timestamp -->\r\n     <defs>\r\n      <path d=\"M 18.3125 70.21875 \r\nL 18.3125 54.6875 \r\nL 36.8125 54.6875 \r\nL 36.8125 47.703125 \r\nL 18.3125 47.703125 \r\nL 18.3125 18.015625 \r\nQ 18.3125 11.328125 20.140625 9.421875 \r\nQ 21.96875 7.515625 27.59375 7.515625 \r\nL 36.8125 7.515625 \r\nL 36.8125 0 \r\nL 27.59375 0 \r\nQ 17.1875 0 13.234375 3.875 \r\nQ 9.28125 7.765625 9.28125 18.015625 \r\nL 9.28125 47.703125 \r\nL 2.6875 47.703125 \r\nL 2.6875 54.6875 \r\nL 9.28125 54.6875 \r\nL 9.28125 70.21875 \r\nz\r\n\" id=\"DejaVuSans-116\"/>\r\n      <path d=\"M 9.421875 54.6875 \r\nL 18.40625 54.6875 \r\nL 18.40625 0 \r\nL 9.421875 0 \r\nz\r\nM 9.421875 75.984375 \r\nL 18.40625 75.984375 \r\nL 18.40625 64.59375 \r\nL 9.421875 64.59375 \r\nz\r\n\" id=\"DejaVuSans-105\"/>\r\n      <path d=\"M 52 44.1875 \r\nQ 55.375 50.25 60.0625 53.125 \r\nQ 64.75 56 71.09375 56 \r\nQ 79.640625 56 84.28125 50.015625 \r\nQ 88.921875 44.046875 88.921875 33.015625 \r\nL 88.921875 0 \r\nL 79.890625 0 \r\nL 79.890625 32.71875 \r\nQ 79.890625 40.578125 77.09375 44.375 \r\nQ 74.3125 48.1875 68.609375 48.1875 \r\nQ 61.625 48.1875 57.5625 43.546875 \r\nQ 53.515625 38.921875 53.515625 30.90625 \r\nL 53.515625 0 \r\nL 44.484375 0 \r\nL 44.484375 32.71875 \r\nQ 44.484375 40.625 41.703125 44.40625 \r\nQ 38.921875 48.1875 33.109375 48.1875 \r\nQ 26.21875 48.1875 22.15625 43.53125 \r\nQ 18.109375 38.875 18.109375 30.90625 \r\nL 18.109375 0 \r\nL 9.078125 0 \r\nL 9.078125 54.6875 \r\nL 18.109375 54.6875 \r\nL 18.109375 46.1875 \r\nQ 21.1875 51.21875 25.484375 53.609375 \r\nQ 29.78125 56 35.6875 56 \r\nQ 41.65625 56 45.828125 52.96875 \r\nQ 50 49.953125 52 44.1875 \r\nz\r\n\" id=\"DejaVuSans-109\"/>\r\n      <path d=\"M 56.203125 29.59375 \r\nL 56.203125 25.203125 \r\nL 14.890625 25.203125 \r\nQ 15.484375 15.921875 20.484375 11.0625 \r\nQ 25.484375 6.203125 34.421875 6.203125 \r\nQ 39.59375 6.203125 44.453125 7.46875 \r\nQ 49.3125 8.734375 54.109375 11.28125 \r\nL 54.109375 2.78125 \r\nQ 49.265625 0.734375 44.1875 -0.34375 \r\nQ 39.109375 -1.421875 33.890625 -1.421875 \r\nQ 20.796875 -1.421875 13.15625 6.1875 \r\nQ 5.515625 13.8125 5.515625 26.8125 \r\nQ 5.515625 40.234375 12.765625 48.109375 \r\nQ 20.015625 56 32.328125 56 \r\nQ 43.359375 56 49.78125 48.890625 \r\nQ 56.203125 41.796875 56.203125 29.59375 \r\nz\r\nM 47.21875 32.234375 \r\nQ 47.125 39.59375 43.09375 43.984375 \r\nQ 39.0625 48.390625 32.421875 48.390625 \r\nQ 24.90625 48.390625 20.390625 44.140625 \r\nQ 15.875 39.890625 15.1875 32.171875 \r\nz\r\n\" id=\"DejaVuSans-101\"/>\r\n      <path d=\"M 44.28125 53.078125 \r\nL 44.28125 44.578125 \r\nQ 40.484375 46.53125 36.375 47.5 \r\nQ 32.28125 48.484375 27.875 48.484375 \r\nQ 21.1875 48.484375 17.84375 46.4375 \r\nQ 14.5 44.390625 14.5 40.28125 \r\nQ 14.5 37.15625 16.890625 35.375 \r\nQ 19.28125 33.59375 26.515625 31.984375 \r\nL 29.59375 31.296875 \r\nQ 39.15625 29.25 43.1875 25.515625 \r\nQ 47.21875 21.78125 47.21875 15.09375 \r\nQ 47.21875 7.46875 41.1875 3.015625 \r\nQ 35.15625 -1.421875 24.609375 -1.421875 \r\nQ 20.21875 -1.421875 15.453125 -0.5625 \r\nQ 10.6875 0.296875 5.421875 2 \r\nL 5.421875 11.28125 \r\nQ 10.40625 8.6875 15.234375 7.390625 \r\nQ 20.0625 6.109375 24.8125 6.109375 \r\nQ 31.15625 6.109375 34.5625 8.28125 \r\nQ 37.984375 10.453125 37.984375 14.40625 \r\nQ 37.984375 18.0625 35.515625 20.015625 \r\nQ 33.0625 21.96875 24.703125 23.78125 \r\nL 21.578125 24.515625 \r\nQ 13.234375 26.265625 9.515625 29.90625 \r\nQ 5.8125 33.546875 5.8125 39.890625 \r\nQ 5.8125 47.609375 11.28125 51.796875 \r\nQ 16.75 56 26.8125 56 \r\nQ 31.78125 56 36.171875 55.265625 \r\nQ 40.578125 54.546875 44.28125 53.078125 \r\nz\r\n\" id=\"DejaVuSans-115\"/>\r\n      <path d=\"M 34.28125 27.484375 \r\nQ 23.390625 27.484375 19.1875 25 \r\nQ 14.984375 22.515625 14.984375 16.5 \r\nQ 14.984375 11.71875 18.140625 8.90625 \r\nQ 21.296875 6.109375 26.703125 6.109375 \r\nQ 34.1875 6.109375 38.703125 11.40625 \r\nQ 43.21875 16.703125 43.21875 25.484375 \r\nL 43.21875 27.484375 \r\nz\r\nM 52.203125 31.203125 \r\nL 52.203125 0 \r\nL 43.21875 0 \r\nL 43.21875 8.296875 \r\nQ 40.140625 3.328125 35.546875 0.953125 \r\nQ 30.953125 -1.421875 24.3125 -1.421875 \r\nQ 15.921875 -1.421875 10.953125 3.296875 \r\nQ 6 8.015625 6 15.921875 \r\nQ 6 25.140625 12.171875 29.828125 \r\nQ 18.359375 34.515625 30.609375 34.515625 \r\nL 43.21875 34.515625 \r\nL 43.21875 35.40625 \r\nQ 43.21875 41.609375 39.140625 45 \r\nQ 35.0625 48.390625 27.6875 48.390625 \r\nQ 23 48.390625 18.546875 47.265625 \r\nQ 14.109375 46.140625 10.015625 43.890625 \r\nL 10.015625 52.203125 \r\nQ 14.9375 54.109375 19.578125 55.046875 \r\nQ 24.21875 56 28.609375 56 \r\nQ 40.484375 56 46.34375 49.84375 \r\nQ 52.203125 43.703125 52.203125 31.203125 \r\nz\r\n\" id=\"DejaVuSans-97\"/>\r\n      <path d=\"M 18.109375 8.203125 \r\nL 18.109375 -20.796875 \r\nL 9.078125 -20.796875 \r\nL 9.078125 54.6875 \r\nL 18.109375 54.6875 \r\nL 18.109375 46.390625 \r\nQ 20.953125 51.265625 25.265625 53.625 \r\nQ 29.59375 56 35.59375 56 \r\nQ 45.5625 56 51.78125 48.09375 \r\nQ 58.015625 40.1875 58.015625 27.296875 \r\nQ 58.015625 14.40625 51.78125 6.484375 \r\nQ 45.5625 -1.421875 35.59375 -1.421875 \r\nQ 29.59375 -1.421875 25.265625 0.953125 \r\nQ 20.953125 3.328125 18.109375 8.203125 \r\nz\r\nM 48.6875 27.296875 \r\nQ 48.6875 37.203125 44.609375 42.84375 \r\nQ 40.53125 48.484375 33.40625 48.484375 \r\nQ 26.265625 48.484375 22.1875 42.84375 \r\nQ 18.109375 37.203125 18.109375 27.296875 \r\nQ 18.109375 17.390625 22.1875 11.75 \r\nQ 26.265625 6.109375 33.40625 6.109375 \r\nQ 40.53125 6.109375 44.609375 11.75 \r\nQ 48.6875 17.390625 48.6875 27.296875 \r\nz\r\n\" id=\"DejaVuSans-112\"/>\r\n     </defs>\r\n     <g transform=\"translate(186.442969 252.916562)scale(0.1 -0.1)\">\r\n      <use xlink:href=\"#DejaVuSans-116\"/>\r\n      <use x=\"39.208984\" xlink:href=\"#DejaVuSans-105\"/>\r\n      <use x=\"66.992188\" xlink:href=\"#DejaVuSans-109\"/>\r\n      <use x=\"164.404297\" xlink:href=\"#DejaVuSans-101\"/>\r\n      <use x=\"225.927734\" xlink:href=\"#DejaVuSans-115\"/>\r\n      <use x=\"278.027344\" xlink:href=\"#DejaVuSans-116\"/>\r\n      <use x=\"317.236328\" xlink:href=\"#DejaVuSans-97\"/>\r\n      <use x=\"378.515625\" xlink:href=\"#DejaVuSans-109\"/>\r\n      <use x=\"475.927734\" xlink:href=\"#DejaVuSans-112\"/>\r\n     </g>\r\n    </g>\r\n   </g>\r\n   <g id=\"matplotlib.axis_2\">\r\n    <g id=\"ytick_1\">\r\n     <g id=\"line2d_11\">\r\n      <defs>\r\n       <path d=\"M 0 0 \r\nL -3.5 0 \r\n\" id=\"mb64b12b6c3\" style=\"stroke:#000000;stroke-width:0.8;\"/>\r\n      </defs>\r\n      <g>\r\n       <use style=\"stroke:#000000;stroke-width:0.8;\" x=\"46.0125\" xlink:href=\"#mb64b12b6c3\" y=\"214.756364\"/>\r\n      </g>\r\n     </g>\r\n     <g id=\"text_7\">\r\n      <!-- 0 -->\r\n      <g transform=\"translate(32.65 218.555582)scale(0.1 -0.1)\">\r\n       <use xlink:href=\"#DejaVuSans-48\"/>\r\n      </g>\r\n     </g>\r\n    </g>\r\n    <g id=\"ytick_2\">\r\n     <g id=\"line2d_12\">\r\n      <g>\r\n       <use style=\"stroke:#000000;stroke-width:0.8;\" x=\"46.0125\" xlink:href=\"#mb64b12b6c3\" y=\"187.737877\"/>\r\n      </g>\r\n     </g>\r\n     <g id=\"text_8\">\r\n      <!-- 5000 -->\r\n      <defs>\r\n       <path d=\"M 10.796875 72.90625 \r\nL 49.515625 72.90625 \r\nL 49.515625 64.59375 \r\nL 19.828125 64.59375 \r\nL 19.828125 46.734375 \r\nQ 21.96875 47.46875 24.109375 47.828125 \r\nQ 26.265625 48.1875 28.421875 48.1875 \r\nQ 40.625 48.1875 47.75 41.5 \r\nQ 54.890625 34.8125 54.890625 23.390625 \r\nQ 54.890625 11.625 47.5625 5.09375 \r\nQ 40.234375 -1.421875 26.90625 -1.421875 \r\nQ 22.3125 -1.421875 17.546875 -0.640625 \r\nQ 12.796875 0.140625 7.71875 1.703125 \r\nL 7.71875 11.625 \r\nQ 12.109375 9.234375 16.796875 8.0625 \r\nQ 21.484375 6.890625 26.703125 6.890625 \r\nQ 35.15625 6.890625 40.078125 11.328125 \r\nQ 45.015625 15.765625 45.015625 23.390625 \r\nQ 45.015625 31 40.078125 35.4375 \r\nQ 35.15625 39.890625 26.703125 39.890625 \r\nQ 22.75 39.890625 18.8125 39.015625 \r\nQ 14.890625 38.140625 10.796875 36.28125 \r\nz\r\n\" id=\"DejaVuSans-53\"/>\r\n      </defs>\r\n      <g transform=\"translate(13.5625 191.537095)scale(0.1 -0.1)\">\r\n       <use xlink:href=\"#DejaVuSans-53\"/>\r\n       <use x=\"63.623047\" xlink:href=\"#DejaVuSans-48\"/>\r\n       <use x=\"127.246094\" xlink:href=\"#DejaVuSans-48\"/>\r\n       <use x=\"190.869141\" xlink:href=\"#DejaVuSans-48\"/>\r\n      </g>\r\n     </g>\r\n    </g>\r\n    <g id=\"ytick_3\">\r\n     <g id=\"line2d_13\">\r\n      <g>\r\n       <use style=\"stroke:#000000;stroke-width:0.8;\" x=\"46.0125\" xlink:href=\"#mb64b12b6c3\" y=\"160.71939\"/>\r\n      </g>\r\n     </g>\r\n     <g id=\"text_9\">\r\n      <!-- 10000 -->\r\n      <g transform=\"translate(7.2 164.518608)scale(0.1 -0.1)\">\r\n       <use xlink:href=\"#DejaVuSans-49\"/>\r\n       <use x=\"63.623047\" xlink:href=\"#DejaVuSans-48\"/>\r\n       <use x=\"127.246094\" xlink:href=\"#DejaVuSans-48\"/>\r\n       <use x=\"190.869141\" xlink:href=\"#DejaVuSans-48\"/>\r\n       <use x=\"254.492188\" xlink:href=\"#DejaVuSans-48\"/>\r\n      </g>\r\n     </g>\r\n    </g>\r\n    <g id=\"ytick_4\">\r\n     <g id=\"line2d_14\">\r\n      <g>\r\n       <use style=\"stroke:#000000;stroke-width:0.8;\" x=\"46.0125\" xlink:href=\"#mb64b12b6c3\" y=\"133.700903\"/>\r\n      </g>\r\n     </g>\r\n     <g id=\"text_10\">\r\n      <!-- 15000 -->\r\n      <g transform=\"translate(7.2 137.500121)scale(0.1 -0.1)\">\r\n       <use xlink:href=\"#DejaVuSans-49\"/>\r\n       <use x=\"63.623047\" xlink:href=\"#DejaVuSans-53\"/>\r\n       <use x=\"127.246094\" xlink:href=\"#DejaVuSans-48\"/>\r\n       <use x=\"190.869141\" xlink:href=\"#DejaVuSans-48\"/>\r\n       <use x=\"254.492188\" xlink:href=\"#DejaVuSans-48\"/>\r\n      </g>\r\n     </g>\r\n    </g>\r\n    <g id=\"ytick_5\">\r\n     <g id=\"line2d_15\">\r\n      <g>\r\n       <use style=\"stroke:#000000;stroke-width:0.8;\" x=\"46.0125\" xlink:href=\"#mb64b12b6c3\" y=\"106.682416\"/>\r\n      </g>\r\n     </g>\r\n     <g id=\"text_11\">\r\n      <!-- 20000 -->\r\n      <g transform=\"translate(7.2 110.481634)scale(0.1 -0.1)\">\r\n       <use xlink:href=\"#DejaVuSans-50\"/>\r\n       <use x=\"63.623047\" xlink:href=\"#DejaVuSans-48\"/>\r\n       <use x=\"127.246094\" xlink:href=\"#DejaVuSans-48\"/>\r\n       <use x=\"190.869141\" xlink:href=\"#DejaVuSans-48\"/>\r\n       <use x=\"254.492188\" xlink:href=\"#DejaVuSans-48\"/>\r\n      </g>\r\n     </g>\r\n    </g>\r\n    <g id=\"ytick_6\">\r\n     <g id=\"line2d_16\">\r\n      <g>\r\n       <use style=\"stroke:#000000;stroke-width:0.8;\" x=\"46.0125\" xlink:href=\"#mb64b12b6c3\" y=\"79.663929\"/>\r\n      </g>\r\n     </g>\r\n     <g id=\"text_12\">\r\n      <!-- 25000 -->\r\n      <g transform=\"translate(7.2 83.463147)scale(0.1 -0.1)\">\r\n       <use xlink:href=\"#DejaVuSans-50\"/>\r\n       <use x=\"63.623047\" xlink:href=\"#DejaVuSans-53\"/>\r\n       <use x=\"127.246094\" xlink:href=\"#DejaVuSans-48\"/>\r\n       <use x=\"190.869141\" xlink:href=\"#DejaVuSans-48\"/>\r\n       <use x=\"254.492188\" xlink:href=\"#DejaVuSans-48\"/>\r\n      </g>\r\n     </g>\r\n    </g>\r\n    <g id=\"ytick_7\">\r\n     <g id=\"line2d_17\">\r\n      <g>\r\n       <use style=\"stroke:#000000;stroke-width:0.8;\" x=\"46.0125\" xlink:href=\"#mb64b12b6c3\" y=\"52.645442\"/>\r\n      </g>\r\n     </g>\r\n     <g id=\"text_13\">\r\n      <!-- 30000 -->\r\n      <defs>\r\n       <path d=\"M 40.578125 39.3125 \r\nQ 47.65625 37.796875 51.625 33 \r\nQ 55.609375 28.21875 55.609375 21.1875 \r\nQ 55.609375 10.40625 48.1875 4.484375 \r\nQ 40.765625 -1.421875 27.09375 -1.421875 \r\nQ 22.515625 -1.421875 17.65625 -0.515625 \r\nQ 12.796875 0.390625 7.625 2.203125 \r\nL 7.625 11.71875 \r\nQ 11.71875 9.328125 16.59375 8.109375 \r\nQ 21.484375 6.890625 26.8125 6.890625 \r\nQ 36.078125 6.890625 40.9375 10.546875 \r\nQ 45.796875 14.203125 45.796875 21.1875 \r\nQ 45.796875 27.640625 41.28125 31.265625 \r\nQ 36.765625 34.90625 28.71875 34.90625 \r\nL 20.21875 34.90625 \r\nL 20.21875 43.015625 \r\nL 29.109375 43.015625 \r\nQ 36.375 43.015625 40.234375 45.921875 \r\nQ 44.09375 48.828125 44.09375 54.296875 \r\nQ 44.09375 59.90625 40.109375 62.90625 \r\nQ 36.140625 65.921875 28.71875 65.921875 \r\nQ 24.65625 65.921875 20.015625 65.03125 \r\nQ 15.375 64.15625 9.8125 62.3125 \r\nL 9.8125 71.09375 \r\nQ 15.4375 72.65625 20.34375 73.4375 \r\nQ 25.25 74.21875 29.59375 74.21875 \r\nQ 40.828125 74.21875 47.359375 69.109375 \r\nQ 53.90625 64.015625 53.90625 55.328125 \r\nQ 53.90625 49.265625 50.4375 45.09375 \r\nQ 46.96875 40.921875 40.578125 39.3125 \r\nz\r\n\" id=\"DejaVuSans-51\"/>\r\n      </defs>\r\n      <g transform=\"translate(7.2 56.44466)scale(0.1 -0.1)\">\r\n       <use xlink:href=\"#DejaVuSans-51\"/>\r\n       <use x=\"63.623047\" xlink:href=\"#DejaVuSans-48\"/>\r\n       <use x=\"127.246094\" xlink:href=\"#DejaVuSans-48\"/>\r\n       <use x=\"190.869141\" xlink:href=\"#DejaVuSans-48\"/>\r\n       <use x=\"254.492188\" xlink:href=\"#DejaVuSans-48\"/>\r\n      </g>\r\n     </g>\r\n    </g>\r\n    <g id=\"ytick_8\">\r\n     <g id=\"line2d_18\">\r\n      <g>\r\n       <use style=\"stroke:#000000;stroke-width:0.8;\" x=\"46.0125\" xlink:href=\"#mb64b12b6c3\" y=\"25.626955\"/>\r\n      </g>\r\n     </g>\r\n     <g id=\"text_14\">\r\n      <!-- 35000 -->\r\n      <g transform=\"translate(7.2 29.426173)scale(0.1 -0.1)\">\r\n       <use xlink:href=\"#DejaVuSans-51\"/>\r\n       <use x=\"63.623047\" xlink:href=\"#DejaVuSans-53\"/>\r\n       <use x=\"127.246094\" xlink:href=\"#DejaVuSans-48\"/>\r\n       <use x=\"190.869141\" xlink:href=\"#DejaVuSans-48\"/>\r\n       <use x=\"254.492188\" xlink:href=\"#DejaVuSans-48\"/>\r\n      </g>\r\n     </g>\r\n    </g>\r\n   </g>\r\n   <g id=\"line2d_19\">\r\n    <path clip-path=\"url(#pb6c4ff2eef)\" d=\"M 46.0125 214.74998 \r\nL 83.2125 214.743882 \r\nL 120.4125 214.751663 \r\nL 157.6125 214.753242 \r\nL 194.8125 214.754755 \r\nL 232.0125 214.756364 \r\nL 269.2125 214.756364 \r\nL 306.4125 214.75634 \r\nL 343.6125 214.756299 \r\nL 380.8125 214.756364 \r\n\" style=\"fill:none;stroke:#1f77b4;stroke-linecap:square;stroke-width:1.5;\"/>\r\n   </g>\r\n   <g id=\"line2d_20\">\r\n    <path clip-path=\"url(#pb6c4ff2eef)\" d=\"M 46.0125 139.051679 \r\nL 83.2125 163.581224 \r\nL 120.4125 165.323183 \r\nL 157.6125 161.267059 \r\nL 194.8125 162.619619 \r\nL 232.0125 136.370262 \r\nL 269.2125 140.840132 \r\nL 306.4125 143.399126 \r\nL 343.6125 144.072063 \r\nL 380.8125 162.704033 \r\n\" style=\"fill:none;stroke:#ff7f0e;stroke-linecap:square;stroke-width:1.5;\"/>\r\n   </g>\r\n   <g id=\"line2d_21\">\r\n    <path clip-path=\"url(#pb6c4ff2eef)\" d=\"M 46.0125 154.052716 \r\nL 83.2125 130.234758 \r\nL 120.4125 137.151676 \r\nL 157.6125 155.124478 \r\nL 194.8125 168.777151 \r\nL 232.0125 197.486638 \r\nL 269.2125 202.018969 \r\nL 306.4125 205.223756 \r\nL 343.6125 211.084496 \r\nL 380.8125 210.662566 \r\n\" style=\"fill:none;stroke:#2ca02c;stroke-linecap:square;stroke-width:1.5;\"/>\r\n   </g>\r\n   <g id=\"line2d_22\">\r\n    <path clip-path=\"url(#pb6c4ff2eef)\" d=\"M 46.0125 24.966168 \r\nL 83.2125 17.083636 \r\nL 120.4125 18.782337 \r\nL 157.6125 28.572724 \r\nL 194.8125 36.171021 \r\nL 232.0125 39.802442 \r\nL 269.2125 42.603226 \r\nL 306.4125 44.763699 \r\nL 343.6125 49.36923 \r\nL 380.8125 60.809645 \r\n\" style=\"fill:none;stroke:#d62728;stroke-linecap:square;stroke-width:1.5;\"/>\r\n   </g>\r\n   <g id=\"patch_3\">\r\n    <path d=\"M 46.0125 224.64 \r\nL 46.0125 7.2 \r\n\" style=\"fill:none;stroke:#000000;stroke-linecap:square;stroke-linejoin:miter;stroke-width:0.8;\"/>\r\n   </g>\r\n   <g id=\"patch_4\">\r\n    <path d=\"M 380.8125 224.64 \r\nL 380.8125 7.2 \r\n\" style=\"fill:none;stroke:#000000;stroke-linecap:square;stroke-linejoin:miter;stroke-width:0.8;\"/>\r\n   </g>\r\n   <g id=\"patch_5\">\r\n    <path d=\"M 46.0125 224.64 \r\nL 380.8125 224.64 \r\n\" style=\"fill:none;stroke:#000000;stroke-linecap:square;stroke-linejoin:miter;stroke-width:0.8;\"/>\r\n   </g>\r\n   <g id=\"patch_6\">\r\n    <path d=\"M 46.0125 7.2 \r\nL 380.8125 7.2 \r\n\" style=\"fill:none;stroke:#000000;stroke-linecap:square;stroke-linejoin:miter;stroke-width:0.8;\"/>\r\n   </g>\r\n   <g id=\"legend_1\">\r\n    <g id=\"patch_7\">\r\n     <path d=\"M 176.884375 146.77625 \r\nL 249.940625 146.77625 \r\nQ 251.940625 146.77625 251.940625 144.77625 \r\nL 251.940625 87.06375 \r\nQ 251.940625 85.06375 249.940625 85.06375 \r\nL 176.884375 85.06375 \r\nQ 174.884375 85.06375 174.884375 87.06375 \r\nL 174.884375 144.77625 \r\nQ 174.884375 146.77625 176.884375 146.77625 \r\nz\r\n\" style=\"fill:#ffffff;opacity:0.8;stroke:#cccccc;stroke-linejoin:miter;\"/>\r\n    </g>\r\n    <g id=\"line2d_23\">\r\n     <path d=\"M 178.884375 93.162187 \r\nL 198.884375 93.162187 \r\n\" style=\"fill:none;stroke:#1f77b4;stroke-linecap:square;stroke-width:1.5;\"/>\r\n    </g>\r\n    <g id=\"line2d_24\"/>\r\n    <g id=\"text_15\">\r\n     <!-- oil -->\r\n     <defs>\r\n      <path d=\"M 30.609375 48.390625 \r\nQ 23.390625 48.390625 19.1875 42.75 \r\nQ 14.984375 37.109375 14.984375 27.296875 \r\nQ 14.984375 17.484375 19.15625 11.84375 \r\nQ 23.34375 6.203125 30.609375 6.203125 \r\nQ 37.796875 6.203125 41.984375 11.859375 \r\nQ 46.1875 17.53125 46.1875 27.296875 \r\nQ 46.1875 37.015625 41.984375 42.703125 \r\nQ 37.796875 48.390625 30.609375 48.390625 \r\nz\r\nM 30.609375 56 \r\nQ 42.328125 56 49.015625 48.375 \r\nQ 55.71875 40.765625 55.71875 27.296875 \r\nQ 55.71875 13.875 49.015625 6.21875 \r\nQ 42.328125 -1.421875 30.609375 -1.421875 \r\nQ 18.84375 -1.421875 12.171875 6.21875 \r\nQ 5.515625 13.875 5.515625 27.296875 \r\nQ 5.515625 40.765625 12.171875 48.375 \r\nQ 18.84375 56 30.609375 56 \r\nz\r\n\" id=\"DejaVuSans-111\"/>\r\n      <path d=\"M 9.421875 75.984375 \r\nL 18.40625 75.984375 \r\nL 18.40625 0 \r\nL 9.421875 0 \r\nz\r\n\" id=\"DejaVuSans-108\"/>\r\n     </defs>\r\n     <g transform=\"translate(206.884375 96.662187)scale(0.1 -0.1)\">\r\n      <use xlink:href=\"#DejaVuSans-111\"/>\r\n      <use x=\"61.181641\" xlink:href=\"#DejaVuSans-105\"/>\r\n      <use x=\"88.964844\" xlink:href=\"#DejaVuSans-108\"/>\r\n     </g>\r\n    </g>\r\n    <g id=\"line2d_25\">\r\n     <path d=\"M 178.884375 107.840312 \r\nL 198.884375 107.840312 \r\n\" style=\"fill:none;stroke:#ff7f0e;stroke-linecap:square;stroke-width:1.5;\"/>\r\n    </g>\r\n    <g id=\"line2d_26\"/>\r\n    <g id=\"text_16\">\r\n     <!-- ccgt -->\r\n     <defs>\r\n      <path d=\"M 48.78125 52.59375 \r\nL 48.78125 44.1875 \r\nQ 44.96875 46.296875 41.140625 47.34375 \r\nQ 37.3125 48.390625 33.40625 48.390625 \r\nQ 24.65625 48.390625 19.8125 42.84375 \r\nQ 14.984375 37.3125 14.984375 27.296875 \r\nQ 14.984375 17.28125 19.8125 11.734375 \r\nQ 24.65625 6.203125 33.40625 6.203125 \r\nQ 37.3125 6.203125 41.140625 7.25 \r\nQ 44.96875 8.296875 48.78125 10.40625 \r\nL 48.78125 2.09375 \r\nQ 45.015625 0.34375 40.984375 -0.53125 \r\nQ 36.96875 -1.421875 32.421875 -1.421875 \r\nQ 20.0625 -1.421875 12.78125 6.34375 \r\nQ 5.515625 14.109375 5.515625 27.296875 \r\nQ 5.515625 40.671875 12.859375 48.328125 \r\nQ 20.21875 56 33.015625 56 \r\nQ 37.15625 56 41.109375 55.140625 \r\nQ 45.0625 54.296875 48.78125 52.59375 \r\nz\r\n\" id=\"DejaVuSans-99\"/>\r\n      <path d=\"M 45.40625 27.984375 \r\nQ 45.40625 37.75 41.375 43.109375 \r\nQ 37.359375 48.484375 30.078125 48.484375 \r\nQ 22.859375 48.484375 18.828125 43.109375 \r\nQ 14.796875 37.75 14.796875 27.984375 \r\nQ 14.796875 18.265625 18.828125 12.890625 \r\nQ 22.859375 7.515625 30.078125 7.515625 \r\nQ 37.359375 7.515625 41.375 12.890625 \r\nQ 45.40625 18.265625 45.40625 27.984375 \r\nz\r\nM 54.390625 6.78125 \r\nQ 54.390625 -7.171875 48.1875 -13.984375 \r\nQ 42 -20.796875 29.203125 -20.796875 \r\nQ 24.46875 -20.796875 20.265625 -20.09375 \r\nQ 16.0625 -19.390625 12.109375 -17.921875 \r\nL 12.109375 -9.1875 \r\nQ 16.0625 -11.328125 19.921875 -12.34375 \r\nQ 23.78125 -13.375 27.78125 -13.375 \r\nQ 36.625 -13.375 41.015625 -8.765625 \r\nQ 45.40625 -4.15625 45.40625 5.171875 \r\nL 45.40625 9.625 \r\nQ 42.625 4.78125 38.28125 2.390625 \r\nQ 33.9375 0 27.875 0 \r\nQ 17.828125 0 11.671875 7.65625 \r\nQ 5.515625 15.328125 5.515625 27.984375 \r\nQ 5.515625 40.671875 11.671875 48.328125 \r\nQ 17.828125 56 27.875 56 \r\nQ 33.9375 56 38.28125 53.609375 \r\nQ 42.625 51.21875 45.40625 46.390625 \r\nL 45.40625 54.6875 \r\nL 54.390625 54.6875 \r\nz\r\n\" id=\"DejaVuSans-103\"/>\r\n     </defs>\r\n     <g transform=\"translate(206.884375 111.340312)scale(0.1 -0.1)\">\r\n      <use xlink:href=\"#DejaVuSans-99\"/>\r\n      <use x=\"54.980469\" xlink:href=\"#DejaVuSans-99\"/>\r\n      <use x=\"109.960938\" xlink:href=\"#DejaVuSans-103\"/>\r\n      <use x=\"173.4375\" xlink:href=\"#DejaVuSans-116\"/>\r\n     </g>\r\n    </g>\r\n    <g id=\"line2d_27\">\r\n     <path d=\"M 178.884375 122.518437 \r\nL 198.884375 122.518437 \r\n\" style=\"fill:none;stroke:#2ca02c;stroke-linecap:square;stroke-width:1.5;\"/>\r\n    </g>\r\n    <g id=\"line2d_28\"/>\r\n    <g id=\"text_17\">\r\n     <!-- coal -->\r\n     <g transform=\"translate(206.884375 126.018437)scale(0.1 -0.1)\">\r\n      <use xlink:href=\"#DejaVuSans-99\"/>\r\n      <use x=\"54.980469\" xlink:href=\"#DejaVuSans-111\"/>\r\n      <use x=\"116.162109\" xlink:href=\"#DejaVuSans-97\"/>\r\n      <use x=\"177.441406\" xlink:href=\"#DejaVuSans-108\"/>\r\n     </g>\r\n    </g>\r\n    <g id=\"line2d_29\">\r\n     <path d=\"M 178.884375 137.196562 \r\nL 198.884375 137.196562 \r\n\" style=\"fill:none;stroke:#d62728;stroke-linecap:square;stroke-width:1.5;\"/>\r\n    </g>\r\n    <g id=\"line2d_30\"/>\r\n    <g id=\"text_18\">\r\n     <!-- demand -->\r\n     <defs>\r\n      <path d=\"M 45.40625 46.390625 \r\nL 45.40625 75.984375 \r\nL 54.390625 75.984375 \r\nL 54.390625 0 \r\nL 45.40625 0 \r\nL 45.40625 8.203125 \r\nQ 42.578125 3.328125 38.25 0.953125 \r\nQ 33.9375 -1.421875 27.875 -1.421875 \r\nQ 17.96875 -1.421875 11.734375 6.484375 \r\nQ 5.515625 14.40625 5.515625 27.296875 \r\nQ 5.515625 40.1875 11.734375 48.09375 \r\nQ 17.96875 56 27.875 56 \r\nQ 33.9375 56 38.25 53.625 \r\nQ 42.578125 51.265625 45.40625 46.390625 \r\nz\r\nM 14.796875 27.296875 \r\nQ 14.796875 17.390625 18.875 11.75 \r\nQ 22.953125 6.109375 30.078125 6.109375 \r\nQ 37.203125 6.109375 41.296875 11.75 \r\nQ 45.40625 17.390625 45.40625 27.296875 \r\nQ 45.40625 37.203125 41.296875 42.84375 \r\nQ 37.203125 48.484375 30.078125 48.484375 \r\nQ 22.953125 48.484375 18.875 42.84375 \r\nQ 14.796875 37.203125 14.796875 27.296875 \r\nz\r\n\" id=\"DejaVuSans-100\"/>\r\n      <path d=\"M 54.890625 33.015625 \r\nL 54.890625 0 \r\nL 45.90625 0 \r\nL 45.90625 32.71875 \r\nQ 45.90625 40.484375 42.875 44.328125 \r\nQ 39.84375 48.1875 33.796875 48.1875 \r\nQ 26.515625 48.1875 22.3125 43.546875 \r\nQ 18.109375 38.921875 18.109375 30.90625 \r\nL 18.109375 0 \r\nL 9.078125 0 \r\nL 9.078125 54.6875 \r\nL 18.109375 54.6875 \r\nL 18.109375 46.1875 \r\nQ 21.34375 51.125 25.703125 53.5625 \r\nQ 30.078125 56 35.796875 56 \r\nQ 45.21875 56 50.046875 50.171875 \r\nQ 54.890625 44.34375 54.890625 33.015625 \r\nz\r\n\" id=\"DejaVuSans-110\"/>\r\n     </defs>\r\n     <g transform=\"translate(206.884375 140.696562)scale(0.1 -0.1)\">\r\n      <use xlink:href=\"#DejaVuSans-100\"/>\r\n      <use x=\"63.476562\" xlink:href=\"#DejaVuSans-101\"/>\r\n      <use x=\"125\" xlink:href=\"#DejaVuSans-109\"/>\r\n      <use x=\"222.412109\" xlink:href=\"#DejaVuSans-97\"/>\r\n      <use x=\"283.691406\" xlink:href=\"#DejaVuSans-110\"/>\r\n      <use x=\"347.070312\" xlink:href=\"#DejaVuSans-100\"/>\r\n     </g>\r\n    </g>\r\n   </g>\r\n  </g>\r\n </g>\r\n <defs>\r\n  <clipPath id=\"pb6c4ff2eef\">\r\n   <rect height=\"217.44\" width=\"334.8\" x=\"46.0125\" y=\"7.2\"/>\r\n  </clipPath>\r\n </defs>\r\n</svg>\r\n",
      "image/png": "[encoded data removed]"
     },
     "metadata": {
      "needs_background": "light"
     }
    }
   ],
   "source": [
    "dsource = 'uk_energy_yearly'\n",
    "d_uk[dsource].plot(y=to_correlate[dsource])\n",
    "d_uk[dsource][to_correlate[dsource]].describe()"
   ]
  },
  {
   "cell_type": "markdown",
   "metadata": {},
   "source": [
    "We see that '`oil`' while having high correlation must be ignored as it is almost empty and is definitely not driving GHG emissions: it is 4 orders of magnitude lower than the other fields."
   ]
  },
  {
   "cell_type": "markdown",
   "metadata": {},
   "source": [
    "## Predicting GHG emissions from the Energy sector from energy data\n",
    "\n",
    "From the observed correlation we select to predict emissions based on the \n",
    "data from the Potsdam institute for climate impact research (PIK) [called '`historical_GHG_Sectors_PIK`' in our framework] using specifically:\n",
    "\n",
    "+ 'demand' : The expected average yearly power demand;\n",
    "+ 'coal' : The expected average yearly power produced by coal plants;\n",
    "+ 'ccgt' : The expected average yearly power by combined cycle gas turbine plants.\n",
    "\n",
    "These values are predicted in [`predict.ipynb`]()"
   ]
  },
  {
   "cell_type": "code",
   "execution_count": 22,
   "metadata": {},
   "outputs": [],
   "source": [
    "prediction_data_set = correlation_dict['historical_GHG_Sectors_PIK']"
   ]
  },
  {
   "cell_type": "code",
   "execution_count": 23,
   "metadata": {},
   "outputs": [
    {
     "output_type": "execute_result",
     "data": {
      "text/plain": "            ccgt  coal   demand\n2020-01-01  9000   700  28000.0",
      "text/html": "<div>\n<style scoped>\n    .dataframe tbody tr th:only-of-type {\n        vertical-align: middle;\n    }\n\n    .dataframe tbody tr th {\n        vertical-align: top;\n    }\n\n    .dataframe thead th {\n        text-align: right;\n    }\n</style>\n<table border=\"1\" class=\"dataframe\">\n  <thead>\n    <tr style=\"text-align: right;\">\n      <th></th>\n      <th>ccgt</th>\n      <th>coal</th>\n      <th>demand</th>\n    </tr>\n  </thead>\n  <tbody>\n    <tr>\n      <th>2020-01-01</th>\n      <td>9000</td>\n      <td>700</td>\n      <td>28000.0</td>\n    </tr>\n  </tbody>\n</table>\n</div>"
     },
     "metadata": {},
     "execution_count": 23
    }
   ],
   "source": [
    "pred_x = pd.DataFrame( # Dummy values \n",
    "    {\n",
    "        'ccgt':[9000],\n",
    "        'coal':[700],\n",
    "        'demand':[28000.0],\n",
    "    },\n",
    "    index=pd.to_datetime([\"2020\"])\n",
    ")\n",
    "pred_x"
   ]
  },
  {
   "cell_type": "markdown",
   "metadata": {},
   "source": [
    "Using function `bff2.apply_prediction` applies the linear prediction to each correlated column"
   ]
  },
  {
   "cell_type": "code",
   "execution_count": 26,
   "metadata": {},
   "outputs": [
    {
     "output_type": "execute_result",
     "data": {
      "text/plain": "                     predictor_value  Energy (KYOTOGHG)  Energy (CO2)  \\\npredictor date                                                          \nccgt      2020-01-01            9000         432.214031    421.665933   \ncoal      2020-01-01             700         363.274551    354.399020   \ndemand    2020-01-01           28000         301.841022    294.543148   \n\n                      Energy (N2O)  Energy (CH4)  \npredictor date                                    \nccgt      2020-01-01      2.576720      8.003313  \ncoal      2020-01-01      2.484310      6.571622  \ndemand    2020-01-01      2.397703      5.025987  ",
      "text/html": "<div>\n<style scoped>\n    .dataframe tbody tr th:only-of-type {\n        vertical-align: middle;\n    }\n\n    .dataframe tbody tr th {\n        vertical-align: top;\n    }\n\n    .dataframe thead th {\n        text-align: right;\n    }\n</style>\n<table border=\"1\" class=\"dataframe\">\n  <thead>\n    <tr style=\"text-align: right;\">\n      <th></th>\n      <th></th>\n      <th>predictor_value</th>\n      <th>Energy (KYOTOGHG)</th>\n      <th>Energy (CO2)</th>\n      <th>Energy (N2O)</th>\n      <th>Energy (CH4)</th>\n    </tr>\n    <tr>\n      <th>predictor</th>\n      <th>date</th>\n      <th></th>\n      <th></th>\n      <th></th>\n      <th></th>\n      <th></th>\n    </tr>\n  </thead>\n  <tbody>\n    <tr>\n      <th>ccgt</th>\n      <th>2020-01-01</th>\n      <td>9000</td>\n      <td>432.214031</td>\n      <td>421.665933</td>\n      <td>2.576720</td>\n      <td>8.003313</td>\n    </tr>\n    <tr>\n      <th>coal</th>\n      <th>2020-01-01</th>\n      <td>700</td>\n      <td>363.274551</td>\n      <td>354.399020</td>\n      <td>2.484310</td>\n      <td>6.571622</td>\n    </tr>\n    <tr>\n      <th>demand</th>\n      <th>2020-01-01</th>\n      <td>28000</td>\n      <td>301.841022</td>\n      <td>294.543148</td>\n      <td>2.397703</td>\n      <td>5.025987</td>\n    </tr>\n  </tbody>\n</table>\n</div>"
     },
     "metadata": {},
     "execution_count": 26
    }
   ],
   "source": [
    "pred = bff2.apply_prediction(prediction_data_set['fit'], pred_x)\n",
    "pred"
   ]
  },
  {
   "cell_type": "markdown",
   "metadata": {},
   "source": [
    "It is useful to check here what the correlations between predictors (rows) and predicted values are (columns) "
   ]
  },
  {
   "cell_type": "code",
   "execution_count": 28,
   "metadata": {},
   "outputs": [
    {
     "output_type": "display_data",
     "data": {
      "text/plain": "<pandas.io.formats.style.Styler at 0x1abe7136e48>",
      "text/html": "<style  type=\"text/css\" >\n    #T_294f3ffa_b221_11ea_8bc7_f8e4e3d5f2f4row0_col0 {\n            background-color:  #fff7fb;\n            color:  #000000;\n        }    #T_294f3ffa_b221_11ea_8bc7_f8e4e3d5f2f4row0_col1 {\n            background-color:  #fff7fb;\n            color:  #000000;\n        }    #T_294f3ffa_b221_11ea_8bc7_f8e4e3d5f2f4row0_col2 {\n            background-color:  #fff7fb;\n            color:  #000000;\n        }    #T_294f3ffa_b221_11ea_8bc7_f8e4e3d5f2f4row0_col3 {\n            background-color:  #fff7fb;\n            color:  #000000;\n        }    #T_294f3ffa_b221_11ea_8bc7_f8e4e3d5f2f4row1_col0 {\n            background-color:  #023858;\n            color:  #f1f1f1;\n        }    #T_294f3ffa_b221_11ea_8bc7_f8e4e3d5f2f4row1_col1 {\n            background-color:  #023858;\n            color:  #f1f1f1;\n        }    #T_294f3ffa_b221_11ea_8bc7_f8e4e3d5f2f4row1_col2 {\n            background-color:  #023858;\n            color:  #f1f1f1;\n        }    #T_294f3ffa_b221_11ea_8bc7_f8e4e3d5f2f4row1_col3 {\n            background-color:  #023858;\n            color:  #f1f1f1;\n        }    #T_294f3ffa_b221_11ea_8bc7_f8e4e3d5f2f4row2_col0 {\n            background-color:  #023858;\n            color:  #f1f1f1;\n        }    #T_294f3ffa_b221_11ea_8bc7_f8e4e3d5f2f4row2_col1 {\n            background-color:  #023858;\n            color:  #f1f1f1;\n        }    #T_294f3ffa_b221_11ea_8bc7_f8e4e3d5f2f4row2_col2 {\n            background-color:  #023858;\n            color:  #f1f1f1;\n        }    #T_294f3ffa_b221_11ea_8bc7_f8e4e3d5f2f4row2_col3 {\n            background-color:  #023858;\n            color:  #f1f1f1;\n        }</style><table id=\"T_294f3ffa_b221_11ea_8bc7_f8e4e3d5f2f4\" ><thead>    <tr>        <th class=\"blank level0\" ></th>        <th class=\"col_heading level0 col0\" >Energy (KYOTOGHG)</th>        <th class=\"col_heading level0 col1\" >Energy (CO2)</th>        <th class=\"col_heading level0 col2\" >Energy (N2O)</th>        <th class=\"col_heading level0 col3\" >Energy (CH4)</th>    </tr>    <tr>        <th class=\"index_name level0\" >predictor</th>        <th class=\"blank\" ></th>        <th class=\"blank\" ></th>        <th class=\"blank\" ></th>        <th class=\"blank\" ></th>    </tr></thead><tbody>\n                <tr>\n                        <th id=\"T_294f3ffa_b221_11ea_8bc7_f8e4e3d5f2f4level0_row0\" class=\"row_heading level0 row0\" >ccgt</th>\n                        <td id=\"T_294f3ffa_b221_11ea_8bc7_f8e4e3d5f2f4row0_col0\" class=\"data row0 col0\" >-0.314</td>\n                        <td id=\"T_294f3ffa_b221_11ea_8bc7_f8e4e3d5f2f4row0_col1\" class=\"data row0 col1\" >-0.314</td>\n                        <td id=\"T_294f3ffa_b221_11ea_8bc7_f8e4e3d5f2f4row0_col2\" class=\"data row0 col2\" >0.143</td>\n                        <td id=\"T_294f3ffa_b221_11ea_8bc7_f8e4e3d5f2f4row0_col3\" class=\"data row0 col3\" >-0.143</td>\n            </tr>\n            <tr>\n                        <th id=\"T_294f3ffa_b221_11ea_8bc7_f8e4e3d5f2f4level0_row1\" class=\"row_heading level0 row1\" >coal</th>\n                        <td id=\"T_294f3ffa_b221_11ea_8bc7_f8e4e3d5f2f4row1_col0\" class=\"data row1 col0\" >0.829</td>\n                        <td id=\"T_294f3ffa_b221_11ea_8bc7_f8e4e3d5f2f4row1_col1\" class=\"data row1 col1\" >0.829</td>\n                        <td id=\"T_294f3ffa_b221_11ea_8bc7_f8e4e3d5f2f4row1_col2\" class=\"data row1 col2\" >0.486</td>\n                        <td id=\"T_294f3ffa_b221_11ea_8bc7_f8e4e3d5f2f4row1_col3\" class=\"data row1 col3\" >0.771</td>\n            </tr>\n            <tr>\n                        <th id=\"T_294f3ffa_b221_11ea_8bc7_f8e4e3d5f2f4level0_row2\" class=\"row_heading level0 row2\" >demand</th>\n                        <td id=\"T_294f3ffa_b221_11ea_8bc7_f8e4e3d5f2f4row2_col0\" class=\"data row2 col0\" >0.829</td>\n                        <td id=\"T_294f3ffa_b221_11ea_8bc7_f8e4e3d5f2f4row2_col1\" class=\"data row2 col1\" >0.829</td>\n                        <td id=\"T_294f3ffa_b221_11ea_8bc7_f8e4e3d5f2f4row2_col2\" class=\"data row2 col2\" >0.486</td>\n                        <td id=\"T_294f3ffa_b221_11ea_8bc7_f8e4e3d5f2f4row2_col3\" class=\"data row2 col3\" >0.771</td>\n            </tr>\n    </tbody></table>"
     },
     "metadata": {}
    }
   ],
   "source": [
    "display(\n",
    "    prediction_data_set['correlation'].loc[pred.index.get_level_values(0).unique()]\n",
    "    .style.background_gradient().set_precision(3)\n",
    ")"
   ]
  },
  {
   "cell_type": "code",
   "execution_count": 13,
   "metadata": {},
   "outputs": [],
   "source": [
    "pred_corona = pd.DataFrame(\n",
    "    {\n",
    "        'demand_no_corona':[30000.0],\n",
    "        'demand_corona':[28000.0],\n",
    "    },\n",
    "    index=pd.to_datetime([\"2020\"])\n",
    ")\n",
    "pred = bff2.apply_prediction(\n",
    "    prediction_data_set['fit'],\n",
    "    pred_corona,\n",
    "    {c: 'demand' for c in pred_corona}\n",
    ")"
   ]
  },
  {
   "cell_type": "code",
   "execution_count": 14,
   "metadata": {},
   "outputs": [],
   "source": [
    "difference = pred.loc[\"demand_corona\"]-pred.loc[\"demand_no_corona\"]\n",
    "ratio = (difference)/pred.loc[\"demand_no_corona\"]\n",
    "\n",
    "difference[\"quantity\"] = \"absolute difference\"\n",
    "ratio[\"quantity\"] = \"relative difference\"\n",
    "\n",
    "change_corona = pd.concat([difference,ratio])"
   ]
  },
  {
   "cell_type": "code",
   "execution_count": 15,
   "metadata": {
    "tags": []
   },
   "outputs": [
    {
     "output_type": "stream",
     "name": "stdout",
     "text": "Predicted GHG emissions based on energy demand:\n___________________________________________________\n"
    },
    {
     "output_type": "display_data",
     "data": {
      "text/plain": "                             predictor_value  Energy (KYOTOGHG)  Energy (CO2)  \\\npredictor        date                                                           \ndemand_no_corona 2020-01-01          30000.0         340.884887    332.572576   \ndemand_corona    2020-01-01          28000.0         301.841022    294.543148   \n\n                             Energy (N2O)  Energy (CH4)  \npredictor        date                                    \ndemand_no_corona 2020-01-01      2.451594      5.956173  \ndemand_corona    2020-01-01      2.397703      5.025987  ",
      "text/html": "<div>\n<style scoped>\n    .dataframe tbody tr th:only-of-type {\n        vertical-align: middle;\n    }\n\n    .dataframe tbody tr th {\n        vertical-align: top;\n    }\n\n    .dataframe thead th {\n        text-align: right;\n    }\n</style>\n<table border=\"1\" class=\"dataframe\">\n  <thead>\n    <tr style=\"text-align: right;\">\n      <th></th>\n      <th></th>\n      <th>predictor_value</th>\n      <th>Energy (KYOTOGHG)</th>\n      <th>Energy (CO2)</th>\n      <th>Energy (N2O)</th>\n      <th>Energy (CH4)</th>\n    </tr>\n    <tr>\n      <th>predictor</th>\n      <th>date</th>\n      <th></th>\n      <th></th>\n      <th></th>\n      <th></th>\n      <th></th>\n    </tr>\n  </thead>\n  <tbody>\n    <tr>\n      <th>demand_no_corona</th>\n      <th>2020-01-01</th>\n      <td>30000.0</td>\n      <td>340.884887</td>\n      <td>332.572576</td>\n      <td>2.451594</td>\n      <td>5.956173</td>\n    </tr>\n    <tr>\n      <th>demand_corona</th>\n      <th>2020-01-01</th>\n      <td>28000.0</td>\n      <td>301.841022</td>\n      <td>294.543148</td>\n      <td>2.397703</td>\n      <td>5.025987</td>\n    </tr>\n  </tbody>\n</table>\n</div>"
     },
     "metadata": {}
    },
    {
     "output_type": "stream",
     "name": "stdout",
     "text": "\n\nPredicted change in GHG emissions based on energy demand:\n_____________________________________________________________\n"
    },
    {
     "output_type": "display_data",
     "data": {
      "text/plain": "            predictor_value  Energy (KYOTOGHG)  Energy (CO2)  Energy (N2O)  \\\ndate                                                                         \n2020-01-01     -2000.000000         -39.043864    -38.029429     -0.053891   \n2020-01-01        -0.066667          -0.114537     -0.114349     -0.021982   \n\n            Energy (CH4)             quantity  \ndate                                           \n2020-01-01     -0.930186  absolute difference  \n2020-01-01     -0.156172  relative difference  ",
      "text/html": "<div>\n<style scoped>\n    .dataframe tbody tr th:only-of-type {\n        vertical-align: middle;\n    }\n\n    .dataframe tbody tr th {\n        vertical-align: top;\n    }\n\n    .dataframe thead th {\n        text-align: right;\n    }\n</style>\n<table border=\"1\" class=\"dataframe\">\n  <thead>\n    <tr style=\"text-align: right;\">\n      <th></th>\n      <th>predictor_value</th>\n      <th>Energy (KYOTOGHG)</th>\n      <th>Energy (CO2)</th>\n      <th>Energy (N2O)</th>\n      <th>Energy (CH4)</th>\n      <th>quantity</th>\n    </tr>\n    <tr>\n      <th>date</th>\n      <th></th>\n      <th></th>\n      <th></th>\n      <th></th>\n      <th></th>\n      <th></th>\n    </tr>\n  </thead>\n  <tbody>\n    <tr>\n      <th>2020-01-01</th>\n      <td>-2000.000000</td>\n      <td>-39.043864</td>\n      <td>-38.029429</td>\n      <td>-0.053891</td>\n      <td>-0.930186</td>\n      <td>absolute difference</td>\n    </tr>\n    <tr>\n      <th>2020-01-01</th>\n      <td>-0.066667</td>\n      <td>-0.114537</td>\n      <td>-0.114349</td>\n      <td>-0.021982</td>\n      <td>-0.156172</td>\n      <td>relative difference</td>\n    </tr>\n  </tbody>\n</table>\n</div>"
     },
     "metadata": {}
    }
   ],
   "source": [
    "print(\"Predicted GHG emissions based on energy demand:\")\n",
    "print(\"___________________________________________________\")\n",
    "display(pred)\n",
    "print(\"\")\n",
    "print(\"\")\n",
    "print(\"Predicted change in GHG emissions based on energy demand:\")\n",
    "print(\"_____________________________________________________________\")\n",
    "display(change_corona)"
   ]
  },
  {
   "cell_type": "markdown",
   "metadata": {},
   "source": [
    "## Plots"
   ]
  },
  {
   "cell_type": "code",
   "execution_count": 16,
   "metadata": {},
   "outputs": [],
   "source": [
    "energy_demand = d_uk['uk_energy_daily'][['oil', 'ccgt', 'coal', 'demand']]\n",
    "# energy_ghg = d_uk['historical_GHG_Sectors_PIK']['Energy (KYOTOGHG)']\n",
    "\n",
    "gas = \"CO2\"\n",
    "GHG_data = 'historical_GHG_Sectors_GCP'\n",
    "\n",
    "cols = d_uk['historical_GHG_Sectors_GCP'].columns\n",
    "cols_GHG = [s for s in cols if f\"({gas})\" in s]\n",
    "energy_ghg = d_uk[GHG_data][cols_GHG]\n",
    "\n"
   ]
  },
  {
   "cell_type": "code",
   "execution_count": 17,
   "metadata": {},
   "outputs": [
    {
     "output_type": "error",
     "ename": "NameError",
     "evalue": "name 'energy_demand_yearly' is not defined",
     "traceback": [
      "\u001b[1;31m---------------------------------------------------------------------------\u001b[0m",
      "\u001b[1;31mNameError\u001b[0m                                 Traceback (most recent call last)",
      "\u001b[1;32m<ipython-input-17-3acb66c3d046>\u001b[0m in \u001b[0;36m<module>\u001b[1;34m\u001b[0m\n\u001b[0;32m      3\u001b[0m \u001b[0max1_args\u001b[0m \u001b[1;33m=\u001b[0m \u001b[1;33m{\u001b[0m\u001b[1;33m}\u001b[0m\u001b[1;33m\u001b[0m\u001b[1;33m\u001b[0m\u001b[0m\n\u001b[0;32m      4\u001b[0m \u001b[0max2_args\u001b[0m \u001b[1;33m=\u001b[0m \u001b[1;33m{\u001b[0m\u001b[1;33m}\u001b[0m\u001b[1;33m\u001b[0m\u001b[1;33m\u001b[0m\u001b[0m\n\u001b[1;32m----> 5\u001b[1;33m \u001b[1;32mif\u001b[0m \u001b[0menergy_demand_yearly\u001b[0m\u001b[1;33m.\u001b[0m\u001b[0mshape\u001b[0m\u001b[1;33m[\u001b[0m\u001b[1;36m1\u001b[0m\u001b[1;33m]\u001b[0m \u001b[1;33m==\u001b[0m \u001b[1;36m1\u001b[0m \u001b[1;32mand\u001b[0m \u001b[0menergy_ghg\u001b[0m\u001b[1;33m.\u001b[0m\u001b[0mshape\u001b[0m\u001b[1;33m[\u001b[0m\u001b[1;36m1\u001b[0m\u001b[1;33m]\u001b[0m \u001b[1;33m==\u001b[0m \u001b[1;36m1\u001b[0m\u001b[1;33m:\u001b[0m\u001b[1;33m\u001b[0m\u001b[1;33m\u001b[0m\u001b[0m\n\u001b[0m\u001b[0;32m      6\u001b[0m     \u001b[0max1_args\u001b[0m \u001b[1;33m=\u001b[0m \u001b[1;33m{\u001b[0m\u001b[1;34m'color'\u001b[0m\u001b[1;33m:\u001b[0m\u001b[1;34m\"C0\"\u001b[0m\u001b[1;33m}\u001b[0m\u001b[1;33m\u001b[0m\u001b[1;33m\u001b[0m\u001b[0m\n\u001b[0;32m      7\u001b[0m     \u001b[0max2_args\u001b[0m \u001b[1;33m=\u001b[0m \u001b[1;33m{\u001b[0m\u001b[1;34m'color'\u001b[0m\u001b[1;33m:\u001b[0m\u001b[1;34m\"C1\"\u001b[0m\u001b[1;33m}\u001b[0m\u001b[1;33m\u001b[0m\u001b[1;33m\u001b[0m\u001b[0m\n",
      "\u001b[1;31mNameError\u001b[0m: name 'energy_demand_yearly' is not defined"
     ]
    }
   ],
   "source": [
    "fig, axs = plt.subplots(1, 1)\n",
    "fig.set_size_inches(10, 5)\n",
    "ax1_args = {}\n",
    "ax2_args = {}\n",
    "if energy_demand_yearly.shape[1] == 1 and energy_ghg.shape[1] == 1:\n",
    "    ax1_args = {'color':\"C0\"}\n",
    "    ax2_args = {'color':\"C1\"}\n",
    "energy_demand_yearly.plot(\n",
    "    y=[c for c in energy_demand_yearly],\n",
    "    ax=axs, \n",
    "    label=[c for c in energy_demand_yearly],\n",
    "    **ax1_args\n",
    ")\n",
    "ax2 = axs.twinx()\n",
    "energy_ghg[energy_ghg.index > \"2000\"].plot(ax=ax2, label=\"GHG emissions\", linestyle='--', **ax2_args)\n",
    "\n",
    "axs.set_ylabel('Yearly Average Energy [MW]', **ax1_args)\n",
    "ax2.set_ylabel('Yearly GHG emissions [Mt$CO_2$e/Y] (dashed lines)', **ax2_args)\n",
    "axs.legend()\n",
    "ax2.legend()"
   ]
  },
  {
   "cell_type": "code",
   "execution_count": 18,
   "metadata": {},
   "outputs": [
    {
     "output_type": "error",
     "ename": "NameError",
     "evalue": "name 'energy_demand_yearly' is not defined",
     "traceback": [
      "\u001b[1;31m---------------------------------------------------------------------------\u001b[0m",
      "\u001b[1;31mNameError\u001b[0m                                 Traceback (most recent call last)",
      "\u001b[1;32m<ipython-input-18-f4015cc7a73e>\u001b[0m in \u001b[0;36m<module>\u001b[1;34m\u001b[0m\n\u001b[0;32m      1\u001b[0m merged = pd.merge_asof(\n\u001b[0;32m      2\u001b[0m     \u001b[0menergy_ghg\u001b[0m\u001b[1;33m[\u001b[0m\u001b[0menergy_ghg\u001b[0m\u001b[1;33m.\u001b[0m\u001b[0mindex\u001b[0m \u001b[1;33m>\u001b[0m \u001b[1;34m\"2012\"\u001b[0m\u001b[1;33m]\u001b[0m\u001b[1;33m,\u001b[0m\u001b[1;33m\u001b[0m\u001b[1;33m\u001b[0m\u001b[0m\n\u001b[1;32m----> 3\u001b[1;33m     \u001b[0menergy_demand_yearly\u001b[0m\u001b[1;33m,\u001b[0m\u001b[1;33m\u001b[0m\u001b[1;33m\u001b[0m\u001b[0m\n\u001b[0m\u001b[0;32m      4\u001b[0m     left_index=True, right_index=True, direction='nearest')\n",
      "\u001b[1;31mNameError\u001b[0m: name 'energy_demand_yearly' is not defined"
     ]
    }
   ],
   "source": [
    "merged = pd.merge_asof(\n",
    "    energy_ghg[energy_ghg.index > \"2012\"], \n",
    "    energy_demand_yearly, \n",
    "    left_index=True, right_index=True, direction='nearest')"
   ]
  },
  {
   "cell_type": "code",
   "execution_count": 19,
   "metadata": {},
   "outputs": [
    {
     "output_type": "error",
     "ename": "NameError",
     "evalue": "name 'merged' is not defined",
     "traceback": [
      "\u001b[1;31m---------------------------------------------------------------------------\u001b[0m",
      "\u001b[1;31mNameError\u001b[0m                                 Traceback (most recent call last)",
      "\u001b[1;32m<ipython-input-19-8aea9a20d82f>\u001b[0m in \u001b[0;36m<module>\u001b[1;34m\u001b[0m\n\u001b[1;32m----> 1\u001b[1;33m \u001b[0mmerged\u001b[0m\u001b[1;33m.\u001b[0m\u001b[0mcorr\u001b[0m\u001b[1;33m(\u001b[0m\u001b[1;33m)\u001b[0m\u001b[1;33m.\u001b[0m\u001b[0mstyle\u001b[0m\u001b[1;33m.\u001b[0m\u001b[0mbackground_gradient\u001b[0m\u001b[1;33m(\u001b[0m\u001b[1;33m)\u001b[0m\u001b[1;33m.\u001b[0m\u001b[0mset_precision\u001b[0m\u001b[1;33m(\u001b[0m\u001b[1;36m2\u001b[0m\u001b[1;33m)\u001b[0m\u001b[1;33m\u001b[0m\u001b[1;33m\u001b[0m\u001b[0m\n\u001b[0m",
      "\u001b[1;31mNameError\u001b[0m: name 'merged' is not defined"
     ]
    }
   ],
   "source": [
    "merged.corr().style.background_gradient().set_precision(2)"
   ]
  },
  {
   "cell_type": "code",
   "execution_count": 20,
   "metadata": {},
   "outputs": [
    {
     "output_type": "error",
     "ename": "NameError",
     "evalue": "name 'merged' is not defined",
     "traceback": [
      "\u001b[1;31m---------------------------------------------------------------------------\u001b[0m",
      "\u001b[1;31mNameError\u001b[0m                                 Traceback (most recent call last)",
      "\u001b[1;32m<ipython-input-20-6a8b661702f3>\u001b[0m in \u001b[0;36m<module>\u001b[1;34m\u001b[0m\n\u001b[1;32m----> 1\u001b[1;33m \u001b[1;33m(\u001b[0m\u001b[1;33m(\u001b[0m\u001b[0mmerged\u001b[0m\u001b[1;33m-\u001b[0m\u001b[0mmerged\u001b[0m\u001b[1;33m.\u001b[0m\u001b[0mmin\u001b[0m\u001b[1;33m(\u001b[0m\u001b[1;33m)\u001b[0m\u001b[1;33m)\u001b[0m\u001b[1;33m/\u001b[0m\u001b[1;33m(\u001b[0m\u001b[0mmerged\u001b[0m\u001b[1;33m.\u001b[0m\u001b[0mmax\u001b[0m\u001b[1;33m(\u001b[0m\u001b[1;33m)\u001b[0m\u001b[1;33m-\u001b[0m\u001b[0mmerged\u001b[0m\u001b[1;33m.\u001b[0m\u001b[0mmin\u001b[0m\u001b[1;33m(\u001b[0m\u001b[1;33m)\u001b[0m\u001b[1;33m)\u001b[0m\u001b[1;33m)\u001b[0m\u001b[1;33m.\u001b[0m\u001b[0mplot\u001b[0m\u001b[1;33m(\u001b[0m\u001b[0mx\u001b[0m\u001b[1;33m=\u001b[0m\u001b[1;34m'Coal (CO2)'\u001b[0m\u001b[1;33m,\u001b[0m \u001b[0mmarker\u001b[0m\u001b[1;33m=\u001b[0m\u001b[1;34m'+'\u001b[0m\u001b[1;33m)\u001b[0m\u001b[1;33m\u001b[0m\u001b[1;33m\u001b[0m\u001b[0m\n\u001b[0m",
      "\u001b[1;31mNameError\u001b[0m: name 'merged' is not defined"
     ]
    }
   ],
   "source": [
    "((merged-merged.min())/(merged.max()-merged.min())).plot(x='Coal (CO2)', marker='+')"
   ]
  }
 ],
 "metadata": {
  "language_info": {
   "codemirror_mode": {
    "name": "ipython",
    "version": 3
   },
   "file_extension": ".py",
   "mimetype": "text/x-python",
   "name": "python",
   "nbconvert_exporter": "python",
   "pygments_lexer": "ipython3",
   "version": "3.7.6-final"
  },
  "orig_nbformat": 2,
  "kernelspec": {
   "name": "python3",
   "display_name": "Python 3"
  }
 },
 "nbformat": 4,
 "nbformat_minor": 2
}