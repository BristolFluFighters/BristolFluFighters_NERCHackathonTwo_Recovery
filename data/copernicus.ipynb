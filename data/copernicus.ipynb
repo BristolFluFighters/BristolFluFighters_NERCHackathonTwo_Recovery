{
 "cells": [
  {
   "cell_type": "code",
   "execution_count": 4,
   "metadata": {},
   "outputs": [],
   "source": [
    "import xarray as xs"
   ]
  },
  {
   "cell_type": "code",
   "execution_count": 5,
   "metadata": {},
   "outputs": [],
   "source": [
    "ds = xs.open_dataset('raw/200301_201812-C3S-L2_GHG-GHG_PRODUCTS-MERGED-MERGED-OBS4MIPS-MERGED-v4.1.nc')"
   ]
  },
  {
   "cell_type": "code",
   "execution_count": 8,
   "metadata": {},
   "outputs": [],
   "source": [
    "df = ds.to_dataframe()"
   ]
  },
  {
   "cell_type": "code",
   "execution_count": 11,
   "metadata": {},
   "outputs": [],
   "source": [
    "df =df.dropna()"
   ]
  },
  {
   "cell_type": "code",
   "execution_count": 17,
   "metadata": {},
   "outputs": [],
   "source": [
    "df.time_bnds.unique().sort()"
   ]
  },
  {
   "cell_type": "code",
   "execution_count": null,
   "metadata": {},
   "outputs": [],
   "source": [
    "import cdsapi\n",
    "\n",
    "c = cdsapi.Client()\n",
    "\n",
    "c.retrieve(\n",
    "    'satellite-carbon-dioxide',\n",
    "    {\n",
    "        'format': 'zip',\n",
    "        'processing_level': 'level_2',\n",
    "        'variable': 'xco2',\n",
    "        'sensor_and_algorithm': 'merged_emma',\n",
    "        'version': '4.1',\n",
    "        'year': '2019',\n",
    "        'month': '12',\n",
    "        'day': '30',\n",
    "    },\n",
    "    'download.zip')"
   ]
  }
 ],
 "metadata": {
  "language_info": {
   "codemirror_mode": {
    "name": "ipython",
    "version": 3
   },
   "file_extension": ".py",
   "mimetype": "text/x-python",
   "name": "python",
   "nbconvert_exporter": "python",
   "pygments_lexer": "ipython3",
   "version": "3.7.6-final"
  },
  "orig_nbformat": 2,
  "kernelspec": {
   "name": "python3",
   "display_name": "Python 3"
  }
 },
 "nbformat": 4,
 "nbformat_minor": 2
}