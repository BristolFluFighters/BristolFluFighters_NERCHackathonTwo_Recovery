{
 "cells": [
  {
   "cell_type": "markdown",
   "metadata": {},
   "source": [
    "# Historical emmission from Climatewatch\n",
    "\n",
    "They are a secondary source of info, currently downloaded a csv with all their data but they also have an API.\n"
   ]
  },
  {
   "cell_type": "code",
   "execution_count": 2,
   "metadata": {},
   "outputs": [],
   "source": [
    "import pandas as pd\n",
    "from matplotlib import pyplot as plt\n",
    "import requests\n",
    "import os\n",
    "import numpy as np"
   ]
  },
  {
   "cell_type": "code",
   "execution_count": 3,
   "metadata": {},
   "outputs": [],
   "source": [
    "# Go to repository root directory\n",
    "if \"_changed_dir\" not in locals():\n",
    "    os.chdir(\"../\")\n",
    "    _changed_dir = True"
   ]
  },
  {
   "cell_type": "markdown",
   "metadata": {},
   "source": [
    "Data already downloaded it's in file:\n",
    "`Covid_Hackathon_2\\data\\raw\\historical_emissions\\historical_emissions.csv`\n",
    "\n",
    "In addition the following file provides information about the sources of data\n",
    "`Covid_Hackathon_2\\data\\raw\\historical_emissions\\Sources.csv`\n"
   ]
  },
  {
   "cell_type": "code",
   "execution_count": 6,
   "metadata": {},
   "outputs": [],
   "source": [
    "file_path = 'data/raw/historical_emissions/historical_emissions.csv'"
   ]
  },
  {
   "cell_type": "code",
   "execution_count": 8,
   "metadata": {},
   "outputs": [],
   "source": [
    "ghg_all = pd.read_csv(file_path)"
   ]
  },
  {
   "cell_type": "markdown",
   "metadata": {},
   "source": [
    "## Dataset features\n",
    "\n",
    "This dataset is a bit tricky because it's so comprehensive.\n",
    "\n",
    "First let's look at the available columns:"
   ]
  },
  {
   "cell_type": "code",
   "execution_count": 11,
   "metadata": {},
   "outputs": [
    {
     "output_type": "execute_result",
     "data": {
      "text/plain": "Index(['Country', 'Data source', 'Sector', 'Gas', 'Unit', '2018'], dtype='object')"
     },
     "metadata": {},
     "execution_count": 11
    }
   ],
   "source": [
    "ghg_all.columns[:6]"
   ]
  },
  {
   "cell_type": "markdown",
   "metadata": {},
   "source": [
    "Let's define `id_columns` for all those containing info about a data set."
   ]
  },
  {
   "cell_type": "code",
   "execution_count": 12,
   "metadata": {},
   "outputs": [],
   "source": [
    "id_columns = ghg_all.columns[:5]"
   ]
  },
  {
   "cell_type": "code",
   "execution_count": 30,
   "metadata": {},
   "outputs": [],
   "source": [
    "def print_df_info(ghg_all, id_columns, limit_print_len = 12):\n",
    "    for col in id_columns:\n",
    "        u_id = ghg_all[col].unique()\n",
    "        print(f\"'{col}' has {len(u_id)} unique items:\")\n",
    "        if len(u_id) < limit_print_len:\n",
    "            print(f\"\\t{u_id}\")\n",
    "        else:\n",
    "            print(f\"\\t{u_id[:limit_print_len]} .....\")\n",
    "        print(\"_________\")"
   ]
  },
  {
   "cell_type": "code",
   "execution_count": 33,
   "metadata": {},
   "outputs": [
    {
     "output_type": "stream",
     "name": "stdout",
     "text": "'Country' has 217 unique items:\n\t['Afghanistan' 'Albania' 'Algeria'\n 'Alliance of Small Island States (AOSIS)' 'Andorra' 'Angola' 'Anguilla'\n 'Annex-I Parties to the Convention' 'Antarctica' 'Antigua and Barbuda'\n 'Argentina' 'Armenia'] .....\n_________\n'Data source' has 5 unique items:\n\t['PIK' 'UNFCCC_NAI' 'CAIT' 'GCP' 'UNFCCC_AI']\n_________\n'Sector' has 30 unique items:\n\t['Industrial Processes and Product Use'\n 'Total GHG emissions including LULUCF/LUCF' 'Industrial Processes'\n 'Agriculture' 'Solvent and Other Product Use' 'Other Fuel Combustion'\n 'Waste' 'Total GHG emissions excluding LULUCF/LUCF'\n 'Total excluding LULUCF' 'Oil' 'Energy' 'Fugitive Emissions'] .....\n_________\n'Gas' has 8 unique items:\n\t['CO2' 'Aggregate GHGs' 'KYOTOGHG' 'N2O' 'All GHG' 'CH4' 'F-Gas'\n 'Aggregate F-gases']\n_________\n'Unit' has 1 unique items:\n\t['MtCO₂e']\n_________\n"
    }
   ],
   "source": [
    "print_df_info(ghg_all, id_columns)"
   ]
  },
  {
   "cell_type": "code",
   "execution_count": 32,
   "metadata": {},
   "outputs": [],
   "source": [
    "ghg_all.Gas[ghg_all.Gas == 'CO₂'] = 'CO2'\n",
    "ghg_all.Gas[ghg_all.Gas == 'N₂O'] = 'N2O'\n",
    "ghg_all.Gas[ghg_all.Gas == 'CH₄'] = 'CH4'"
   ]
  },
  {
   "cell_type": "markdown",
   "metadata": {},
   "source": [
    "## Grouping\n",
    "\n",
    "This data set makes more sense grouped by Sector and by Gas, tangible distinctions."
   ]
  },
  {
   "cell_type": "code",
   "execution_count": 44,
   "metadata": {
    "tags": [
     "outputPrepend",
     "outputPrepend"
    ]
   },
   "outputs": [
    {
     "output_type": "stream",
     "name": "stdout",
     "text": "('Agriculture', 'Aggregate F-gases')\n'Country' has 43 unique items:\n\t['Annex-I Parties to the Convention' 'Australia' 'Austria' 'Belarus'\n 'Belgium' 'Bulgaria' 'Canada' 'Croatia' 'Cyprus' 'Czech Republic'] .....\n_________\n('Agriculture', 'Aggregate GHGs')\n'Country' has 44 unique items:\n\t['Annex-I Parties to the Convention' 'Australia' 'Austria' 'Belarus'\n 'Belgium' 'Bulgaria' 'Canada' 'Croatia' 'Cyprus' 'Czech Republic'] .....\n_________\n('Agriculture', 'CH4')\n'Country' has 44 unique items:\n\t['Annex-I Parties to the Convention' 'Australia' 'Austria' 'Belarus'\n 'Belgium' 'Bulgaria' 'Canada' 'Croatia' 'Cyprus' 'Czech Republic'] .....\n_________\n('Agriculture', 'CO2')\n'Country' has 44 unique items:\n\t['Annex-I Parties to the Convention' 'Australia' 'Austria' 'Belarus'\n 'Belgium' 'Bulgaria' 'Canada' 'Croatia' 'Cyprus' 'Czech Republic'] .....\n_________\n('Agriculture', 'N2O')\n'Country' has 44 unique items:\n\t['Annex-I Parties to the Convention' 'Australia' 'Austria' 'Belarus'\n 'Belgium' 'Bulgaria' 'Canada' 'Croatia' 'Cyprus' 'Czech Republic'] .....\n_________\n('Energy', 'Aggregate F-gases')\n'Country' has 43 unique items:\n\t['Annex-I Parties to the Convention' 'Australia' 'Austria' 'Belarus'\n 'Belgium' 'Bulgaria' 'Canada' 'Croatia' 'Cyprus' 'Czech Republic'] .....\n_________\n('Energy', 'Aggregate GHGs')\n'Country' has 44 unique items:\n\t['Annex-I Parties to the Convention' 'Australia' 'Austria' 'Belarus'\n 'Belgium' 'Bulgaria' 'Canada' 'Croatia' 'Cyprus' 'Czech Republic'] .....\n_________\n('Energy', 'CH4')\n'Country' has 44 unique items:\n\t['Annex-I Parties to the Convention' 'Australia' 'Austria' 'Belarus'\n 'Belgium' 'Bulgaria' 'Canada' 'Croatia' 'Cyprus' 'Czech Republic'] .....\n_________\n('Energy', 'CO2')\n'Country' has 44 unique items:\n\t['Annex-I Parties to the Convention' 'Australia' 'Austria' 'Belarus'\n 'Belgium' 'Bulgaria' 'Canada' 'Croatia' 'Cyprus' 'Czech Republic'] .....\n_________\n('Energy', 'N2O')\n'Country' has 44 unique items:\n\t['Annex-I Parties to the Convention' 'Australia' 'Austria' 'Belarus'\n 'Belgium' 'Bulgaria' 'Canada' 'Croatia' 'Cyprus' 'Czech Republic'] .....\n_________\n('Industrial Processes and Product Use', 'Aggregate F-gases')\n'Country' has 43 unique items:\n\t['Annex-I Parties to the Convention' 'Australia' 'Austria' 'Belarus'\n 'Belgium' 'Bulgaria' 'Canada' 'Croatia' 'Cyprus' 'Czech Republic'] .....\n_________\n('Industrial Processes and Product Use', 'Aggregate GHGs')\n'Country' has 44 unique items:\n\t['Annex-I Parties to the Convention' 'Australia' 'Austria' 'Belarus'\n 'Belgium' 'Bulgaria' 'Canada' 'Croatia' 'Cyprus' 'Czech Republic'] .....\n_________\n('Industrial Processes and Product Use', 'CH4')\n'Country' has 44 unique items:\n\t['Annex-I Parties to the Convention' 'Australia' 'Austria' 'Belarus'\n 'Belgium' 'Bulgaria' 'Canada' 'Croatia' 'Cyprus' 'Czech Republic'] .....\n_________\n('Industrial Processes and Product Use', 'CO2')\n'Country' has 44 unique items:\n\t['Annex-I Parties to the Convention' 'Australia' 'Austria' 'Belarus'\n 'Belgium' 'Bulgaria' 'Canada' 'Croatia' 'Cyprus' 'Czech Republic'] .....\n_________\n('Industrial Processes and Product Use', 'N2O')\n'Country' has 44 unique items:\n\t['Annex-I Parties to the Convention' 'Australia' 'Austria' 'Belarus'\n 'Belgium' 'Bulgaria' 'Canada' 'Croatia' 'Cyprus' 'Czech Republic'] .....\n_________\n('Land Use, Land-Use Change and Forestry', 'Aggregate F-gases')\n'Country' has 43 unique items:\n\t['Annex-I Parties to the Convention' 'Australia' 'Austria' 'Belarus'\n 'Belgium' 'Bulgaria' 'Canada' 'Croatia' 'Cyprus' 'Czech Republic'] .....\n_________\n('Land Use, Land-Use Change and Forestry', 'Aggregate GHGs')\n'Country' has 44 unique items:\n\t['Annex-I Parties to the Convention' 'Australia' 'Austria' 'Belarus'\n 'Belgium' 'Bulgaria' 'Canada' 'Croatia' 'Cyprus' 'Czech Republic'] .....\n_________\n('Land Use, Land-Use Change and Forestry', 'CH4')\n'Country' has 44 unique items:\n\t['Annex-I Parties to the Convention' 'Australia' 'Austria' 'Belarus'\n 'Belgium' 'Bulgaria' 'Canada' 'Croatia' 'Cyprus' 'Czech Republic'] .....\n_________\n('Land Use, Land-Use Change and Forestry', 'CO2')\n'Country' has 44 unique items:\n\t['Annex-I Parties to the Convention' 'Australia' 'Austria' 'Belarus'\n 'Belgium' 'Bulgaria' 'Canada' 'Croatia' 'Cyprus' 'Czech Republic'] .....\n_________\n('Land Use, Land-Use Change and Forestry', 'N2O')\n'Country' has 44 unique items:\n\t['Annex-I Parties to the Convention' 'Australia' 'Austria' 'Belarus'\n 'Belgium' 'Bulgaria' 'Canada' 'Croatia' 'Cyprus' 'Czech Republic'] .....\n_________\n('Other', 'Aggregate F-gases')\n'Country' has 43 unique items:\n\t['Annex-I Parties to the Convention' 'Australia' 'Austria' 'Belarus'\n 'Belgium' 'Bulgaria' 'Canada' 'Croatia' 'Cyprus' 'Czech Republic'] .....\n_________\n('Other', 'Aggregate GHGs')\n'Country' has 44 unique items:\n\t['Annex-I Parties to the Convention' 'Australia' 'Austria' 'Belarus'\n 'Belgium' 'Bulgaria' 'Canada' 'Croatia' 'Cyprus' 'Czech Republic'] .....\n_________\n('Other', 'CH4')\n'Country' has 44 unique items:\n\t['Annex-I Parties to the Convention' 'Australia' 'Austria' 'Belarus'\n 'Belgium' 'Bulgaria' 'Canada' 'Croatia' 'Cyprus' 'Czech Republic'] .....\n_________\n('Other', 'CO2')\n'Country' has 44 unique items:\n\t['Annex-I Parties to the Convention' 'Australia' 'Austria' 'Belarus'\n 'Belgium' 'Bulgaria' 'Canada' 'Croatia' 'Cyprus' 'Czech Republic'] .....\n_________\n('Other', 'N2O')\n'Country' has 44 unique items:\n\t['Annex-I Parties to the Convention' 'Australia' 'Austria' 'Belarus'\n 'Belgium' 'Bulgaria' 'Canada' 'Croatia' 'Cyprus' 'Czech Republic'] .....\n_________\n('Total GHG emissions with LULUCF', 'Aggregate F-gases')\n'Country' has 43 unique items:\n\t['Annex-I Parties to the Convention' 'Australia' 'Austria' 'Belarus'\n 'Belgium' 'Bulgaria' 'Canada' 'Croatia' 'Cyprus' 'Czech Republic'] .....\n_________\n('Total GHG emissions with LULUCF', 'Aggregate GHGs')\n'Country' has 44 unique items:\n\t['Annex-I Parties to the Convention' 'Australia' 'Austria' 'Belarus'\n 'Belgium' 'Bulgaria' 'Canada' 'Croatia' 'Cyprus' 'Czech Republic'] .....\n_________\n('Total GHG emissions with LULUCF', 'CH4')\n'Country' has 44 unique items:\n\t['Annex-I Parties to the Convention' 'Australia' 'Austria' 'Belarus'\n 'Belgium' 'Bulgaria' 'Canada' 'Croatia' 'Cyprus' 'Czech Republic'] .....\n_________\n('Total GHG emissions with LULUCF', 'CO2')\n'Country' has 44 unique items:\n\t['Annex-I Parties to the Convention' 'Australia' 'Austria' 'Belarus'\n 'Belgium' 'Bulgaria' 'Canada' 'Croatia' 'Cyprus' 'Czech Republic'] .....\n_________\n('Total GHG emissions with LULUCF', 'N2O')\n'Country' has 44 unique items:\n\t['Annex-I Parties to the Convention' 'Australia' 'Austria' 'Belarus'\n 'Belgium' 'Bulgaria' 'Canada' 'Croatia' 'Cyprus' 'Czech Republic'] .....\n_________\n('Total GHG emissions without LULUCF', 'Aggregate F-gases')\n'Country' has 43 unique items:\n\t['Australia' 'Austria' 'Belarus' 'Belgium' 'Bulgaria' 'Canada' 'Croatia'\n 'Cyprus' 'Czech Republic' 'Denmark'] .....\n_________\n('Total GHG emissions without LULUCF', 'Aggregate GHGs')\n'Country' has 43 unique items:\n\t['Annex-I Parties to the Convention' 'Australia' 'Austria' 'Belarus'\n 'Belgium' 'Bulgaria' 'Canada' 'Croatia' 'Cyprus' 'Denmark'] .....\n_________\n('Total GHG emissions without LULUCF', 'CH4')\n'Country' has 44 unique items:\n\t['Annex-I Parties to the Convention' 'Australia' 'Austria' 'Belarus'\n 'Belgium' 'Bulgaria' 'Canada' 'Croatia' 'Cyprus' 'Czech Republic'] .....\n_________\n('Total GHG emissions without LULUCF', 'CO2')\n'Country' has 44 unique items:\n\t['Annex-I Parties to the Convention' 'Australia' 'Austria' 'Belarus'\n 'Belgium' 'Bulgaria' 'Canada' 'Croatia' 'Cyprus' 'Czech Republic'] .....\n_________\n('Total GHG emissions without LULUCF', 'N2O')\n'Country' has 44 unique items:\n\t['Annex-I Parties to the Convention' 'Australia' 'Austria' 'Belarus'\n 'Belgium' 'Bulgaria' 'Canada' 'Croatia' 'Cyprus' 'Czech Republic'] .....\n_________\n('Waste', 'Aggregate F-gases')\n'Country' has 43 unique items:\n\t['Annex-I Parties to the Convention' 'Australia' 'Austria' 'Belarus'\n 'Belgium' 'Bulgaria' 'Canada' 'Croatia' 'Cyprus' 'Czech Republic'] .....\n_________\n('Waste', 'Aggregate GHGs')\n'Country' has 44 unique items:\n\t['Annex-I Parties to the Convention' 'Australia' 'Austria' 'Belarus'\n 'Belgium' 'Bulgaria' 'Canada' 'Croatia' 'Cyprus' 'Czech Republic'] .....\n_________\n('Waste', 'CH4')\n'Country' has 44 unique items:\n\t['Annex-I Parties to the Convention' 'Australia' 'Austria' 'Belarus'\n 'Belgium' 'Bulgaria' 'Canada' 'Croatia' 'Cyprus' 'Czech Republic'] .....\n_________\n('Waste', 'CO2')\n'Country' has 44 unique items:\n\t['Annex-I Parties to the Convention' 'Australia' 'Austria' 'Belarus'\n 'Belgium' 'Bulgaria' 'Canada' 'Croatia' 'Cyprus' 'Czech Republic'] .....\n_________\n('Waste', 'N2O')\n'Country' has 44 unique items:\n\t['Annex-I Parties to the Convention' 'Australia' 'Austria' 'Belarus'\n 'Belgium' 'Bulgaria' 'Canada' 'Croatia' 'Cyprus' 'Czech Republic'] .....\n_________\n"
    }
   ],
   "source": [
    "for i, group in ghg_all[ghg_all[\"Data source\"] == 'UNFCCC_NAI'].groupby(by=[\"Sector\", \"Gas\"]): \n",
    "    print(i)\n",
    "    print_df_info(group, [\"Country\"], limit_print_len = 10)"
   ]
  },
  {
   "cell_type": "markdown",
   "metadata": {},
   "source": [
    "### Looking at the UNFCCC data\n",
    "\n",
    "This is official data from the UNFCCC"
   ]
  },
  {
   "cell_type": "code",
   "execution_count": 132,
   "metadata": {},
   "outputs": [],
   "source": [
    "ghg_UNFCCC = ghg_all[\n",
    "    (ghg_all[\"Data source\"] == 'UNFCCC_NAI') \n",
    "    | (ghg_all[\"Data source\"] == 'UNFCCC_AI')\n",
    "]\n",
    "ghg_agg_UNFCCC = ghg_UNFCCC[ghg_UNFCCC.Gas == 'Aggregate GHGs']"
   ]
  },
  {
   "cell_type": "code",
   "execution_count": 61,
   "metadata": {},
   "outputs": [
    {
     "output_type": "stream",
     "name": "stdout",
     "text": "group: Agriculture\n'Country' has 192 unique items:\n\t[] .....\n_________\n'Data source' has 2 unique items:\n\t[] .....\n_________\ngroup: Energy\n'Country' has 192 unique items:\n\t[] .....\n_________\n'Data source' has 2 unique items:\n\t[] .....\n_________\ngroup: Industrial Processes\n'Country' has 148 unique items:\n\t[] .....\n_________\n'Data source' has 1 unique items:\n\t[] .....\n_________\ngroup: Industrial Processes and Product Use\n'Country' has 44 unique items:\n\t[] .....\n_________\n'Data source' has 1 unique items:\n\t[] .....\n_________\ngroup: Land Use, Land-Use Change and Forestry\n'Country' has 44 unique items:\n\t[] .....\n_________\n'Data source' has 1 unique items:\n\t[] .....\n_________\ngroup: Land-Use Change and Forestry\n'Country' has 148 unique items:\n\t[] .....\n_________\n'Data source' has 1 unique items:\n\t[] .....\n_________\ngroup: Other\n'Country' has 192 unique items:\n\t[] .....\n_________\n'Data source' has 2 unique items:\n\t[] .....\n_________\ngroup: Solvent and Other Product Use\n'Country' has 148 unique items:\n\t[] .....\n_________\n'Data source' has 1 unique items:\n\t[] .....\n_________\ngroup: Total GHG emissions excluding LULUCF/LUCF\n'Country' has 147 unique items:\n\t[] .....\n_________\n'Data source' has 1 unique items:\n\t[] .....\n_________\ngroup: Total GHG emissions including LULUCF/LUCF\n'Country' has 148 unique items:\n\t[] .....\n_________\n'Data source' has 1 unique items:\n\t[] .....\n_________\ngroup: Total GHG emissions with LULUCF\n'Country' has 44 unique items:\n\t[] .....\n_________\n'Data source' has 1 unique items:\n\t[] .....\n_________\ngroup: Total GHG emissions without LULUCF\n'Country' has 43 unique items:\n\t[] .....\n_________\n'Data source' has 1 unique items:\n\t[] .....\n_________\ngroup: Waste\n'Country' has 192 unique items:\n\t[] .....\n_________\n'Data source' has 2 unique items:\n\t[] .....\n_________\n"
    }
   ],
   "source": [
    "for group_id, group in ghg_agg_UNFCCC.groupby([\"Sector\"]):\n",
    "    print(f\"group: {group_id}\")\n",
    "    print_df_info(group, [\"Country\", \"Data source\"], limit_print_len = 0)"
   ]
  },
  {
   "cell_type": "markdown",
   "metadata": {},
   "source": [
    "The grouping above reveals that Sector names do not exactly match between the two data sources:"
   ]
  },
  {
   "cell_type": "code",
   "execution_count": 133,
   "metadata": {},
   "outputs": [],
   "source": [
    "ghg_agg_UNFCCC.Sector[ghg_agg_UNFCCC.Sector == 'Industrial Processes and Product Use'] = 'Industrial Processes'\n",
    "ghg_agg_UNFCCC.Sector[ghg_agg_UNFCCC.Sector == 'Land Use, Land-Use Change and Forestry'] = 'Land-Use Change and Forestry'\n",
    "ghg_agg_UNFCCC.Sector[ghg_agg_UNFCCC.Sector == 'Total GHG emissions including LULUCF/LUCF'] = 'Total GHG emissions with LULUCF'\n",
    "ghg_agg_UNFCCC.Sector[ghg_agg_UNFCCC.Sector == 'Total GHG emissions excluding LULUCF/LUCF'] = 'Total GHG emissions without LULUCF'"
   ]
  },
  {
   "cell_type": "code",
   "execution_count": 66,
   "metadata": {},
   "outputs": [
    {
     "output_type": "stream",
     "name": "stdout",
     "text": "Agriculture\n'Country' has 192 unique items:\n\t[] .....\n_________\nEnergy\n'Country' has 192 unique items:\n\t[] .....\n_________\nIndustrial Processes\n'Country' has 192 unique items:\n\t[] .....\n_________\nLand-Use Change and Forestry\n'Country' has 192 unique items:\n\t[] .....\n_________\nOther\n'Country' has 192 unique items:\n\t[] .....\n_________\nSolvent and Other Product Use\n'Country' has 148 unique items:\n\t[] .....\n_________\nTotal GHG emissions with LULUCF\n'Country' has 192 unique items:\n\t[] .....\n_________\nTotal GHG emissions without LULUCF\n'Country' has 190 unique items:\n\t[] .....\n_________\nWaste\n'Country' has 192 unique items:\n\t[] .....\n_________\n"
    }
   ],
   "source": [
    "for group_id, group in ghg_agg_UNFCCC.groupby([\"Sector\"]):\n",
    "    print(group_id)\n",
    "    print_df_info(group, [\"Country\"], limit_print_len = 0)"
   ]
  },
  {
   "cell_type": "markdown",
   "metadata": {},
   "source": [
    "## Data rearranging\n",
    "\n",
    "From this wide dataset let us pivot to have sectors as columns"
   ]
  },
  {
   "cell_type": "code",
   "execution_count": 134,
   "metadata": {},
   "outputs": [
    {
     "output_type": "execute_result",
     "data": {
      "text/plain": "Index(['Country', 'Data source', 'Sector', 'Gas', 'Unit', '2018', '2017',\n       '2016', '2015', '2014',\n       ...\n       '1859', '1858', '1857', '1856', '1855', '1854', '1853', '1852', '1851',\n       '1850'],\n      dtype='object', length=174)"
     },
     "metadata": {},
     "execution_count": 134
    }
   ],
   "source": [
    "ghg_agg_UNFCCC.columns"
   ]
  },
  {
   "cell_type": "code",
   "execution_count": 135,
   "metadata": {},
   "outputs": [
    {
     "output_type": "stream",
     "name": "stdout",
     "text": "new columns Index(['Country', 'Data source', 'Sector', 'Gas', 'Unit'], dtype='object')\n"
    }
   ],
   "source": [
    "id_vars = ghg_agg_UNFCCC.columns[:5]\n",
    "date_vars = ghg_agg_UNFCCC.columns[5:]\n",
    "print(f\"new columns {id_vars}\")"
   ]
  },
  {
   "cell_type": "code",
   "execution_count": 138,
   "metadata": {},
   "outputs": [],
   "source": [
    "def pivot_dates_Sector(ghg_agg_UNFCCC, id_vars, date_vars):\n",
    "    ghg_agg_UNFCCC = ghg_agg_UNFCCC.melt(id_vars=id_vars, value_vars=date_vars, var_name=\"date\", value_name='emissions')\n",
    "\n",
    "    dat_columns = ghg_agg_UNFCCC.Sector.unique()\n",
    "    id_columns = [c for c in ghg_agg_UNFCCC.columns if c not in  [\"emissions\", \"Sector\"]]\n",
    "    ghg_agg_UNFCCC[\"date\"] = pd.to_datetime(ghg_agg_UNFCCC.date)\n",
    "    ghg_agg_UNFCCC = pd.concat(\n",
    "        [\n",
    "            ghg_agg_UNFCCC[id_columns],\n",
    "            ghg_agg_UNFCCC.pivot(columns=\"Sector\", values=\"emissions\")\n",
    "        ],\n",
    "        axis=1, sort=False\n",
    "    )\n",
    "    ghg_agg_UNFCCC_proc = ghg_agg_UNFCCC.groupby(id_columns, as_index=False).first()"
   ]
  },
  {
   "cell_type": "code",
   "execution_count": 139,
   "metadata": {},
   "outputs": [],
   "source": [
    "pivot_dates_Sector(ghg_agg_UNFCCC, id_vars, date_vars)"
   ]
  },
  {
   "cell_type": "code",
   "execution_count": 141,
   "metadata": {},
   "outputs": [
    {
     "output_type": "execute_result",
     "data": {
      "text/plain": "                                Country Data source  \\\n6500                           Ethiopia  UNFCCC_NAI   \n6168                            Eritrea  UNFCCC_NAI   \n5158   Democratic Republic of the Congo  UNFCCC_NAI   \n14292                           Nigeria  UNFCCC_NAI   \n4515                         Costa Rica  UNFCCC_NAI   \n21883                          Zimbabwe  UNFCCC_NAI   \n16062                 Republic of Congo  UNFCCC_NAI   \n17491                      Sierra Leone  UNFCCC_NAI   \n20394                            Uganda  UNFCCC_NAI   \n4353                            Comoros  UNFCCC_NAI   \n\n                                Sector             Gas    Unit  2018  2017  \\\n6500                            Energy  Aggregate GHGs  MtCO₂e   NaN   NaN   \n6168     Solvent and Other Product Use  Aggregate GHGs  MtCO₂e   NaN   NaN   \n5158      Land-Use Change and Forestry  Aggregate GHGs  MtCO₂e   NaN   NaN   \n14292                      Agriculture  Aggregate GHGs  MtCO₂e   NaN   NaN   \n4515                            Energy  Aggregate GHGs  MtCO₂e   NaN   NaN   \n21883                           Energy  Aggregate GHGs  MtCO₂e   NaN   NaN   \n16062  Total GHG emissions with LULUCF  Aggregate GHGs  MtCO₂e   NaN   NaN   \n17491                            Other  Aggregate GHGs  MtCO₂e   NaN   NaN   \n20394                      Agriculture  Aggregate GHGs  MtCO₂e   NaN   NaN   \n4353     Solvent and Other Product Use  Aggregate GHGs  MtCO₂e   NaN   NaN   \n\n       2016  2015  2014  ...  1859  1858  1857  1856  1855  1854  1853  1852  \\\n6500    NaN   NaN   NaN  ...   NaN   NaN   NaN   NaN   NaN   NaN   NaN   NaN   \n6168    NaN   NaN   NaN  ...   NaN   NaN   NaN   NaN   NaN   NaN   NaN   NaN   \n5158    NaN   NaN   NaN  ...   NaN   NaN   NaN   NaN   NaN   NaN   NaN   NaN   \n14292   NaN   NaN   NaN  ...   NaN   NaN   NaN   NaN   NaN   NaN   NaN   NaN   \n4515    NaN   NaN   NaN  ...   NaN   NaN   NaN   NaN   NaN   NaN   NaN   NaN   \n21883   NaN   NaN   NaN  ...   NaN   NaN   NaN   NaN   NaN   NaN   NaN   NaN   \n16062   NaN   NaN   NaN  ...   NaN   NaN   NaN   NaN   NaN   NaN   NaN   NaN   \n17491   NaN   NaN   NaN  ...   NaN   NaN   NaN   NaN   NaN   NaN   NaN   NaN   \n20394   NaN   NaN   NaN  ...   NaN   NaN   NaN   NaN   NaN   NaN   NaN   NaN   \n4353    NaN   NaN   NaN  ...   NaN   NaN   NaN   NaN   NaN   NaN   NaN   NaN   \n\n       1851  1850  \n6500    NaN   NaN  \n6168    NaN   NaN  \n5158    NaN   NaN  \n14292   NaN   NaN  \n4515    NaN   NaN  \n21883   NaN   NaN  \n16062   NaN   NaN  \n17491   NaN   NaN  \n20394   NaN   NaN  \n4353    NaN   NaN  \n\n[10 rows x 174 columns]",
      "text/html": "<div>\n<style scoped>\n    .dataframe tbody tr th:only-of-type {\n        vertical-align: middle;\n    }\n\n    .dataframe tbody tr th {\n        vertical-align: top;\n    }\n\n    .dataframe thead th {\n        text-align: right;\n    }\n</style>\n<table border=\"1\" class=\"dataframe\">\n  <thead>\n    <tr style=\"text-align: right;\">\n      <th></th>\n      <th>Country</th>\n      <th>Data source</th>\n      <th>Sector</th>\n      <th>Gas</th>\n      <th>Unit</th>\n      <th>2018</th>\n      <th>2017</th>\n      <th>2016</th>\n      <th>2015</th>\n      <th>2014</th>\n      <th>...</th>\n      <th>1859</th>\n      <th>1858</th>\n      <th>1857</th>\n      <th>1856</th>\n      <th>1855</th>\n      <th>1854</th>\n      <th>1853</th>\n      <th>1852</th>\n      <th>1851</th>\n      <th>1850</th>\n    </tr>\n  </thead>\n  <tbody>\n    <tr>\n      <th>6500</th>\n      <td>Ethiopia</td>\n      <td>UNFCCC_NAI</td>\n      <td>Energy</td>\n      <td>Aggregate GHGs</td>\n      <td>MtCO₂e</td>\n      <td>NaN</td>\n      <td>NaN</td>\n      <td>NaN</td>\n      <td>NaN</td>\n      <td>NaN</td>\n      <td>...</td>\n      <td>NaN</td>\n      <td>NaN</td>\n      <td>NaN</td>\n      <td>NaN</td>\n      <td>NaN</td>\n      <td>NaN</td>\n      <td>NaN</td>\n      <td>NaN</td>\n      <td>NaN</td>\n      <td>NaN</td>\n    </tr>\n    <tr>\n      <th>6168</th>\n      <td>Eritrea</td>\n      <td>UNFCCC_NAI</td>\n      <td>Solvent and Other Product Use</td>\n      <td>Aggregate GHGs</td>\n      <td>MtCO₂e</td>\n      <td>NaN</td>\n      <td>NaN</td>\n      <td>NaN</td>\n      <td>NaN</td>\n      <td>NaN</td>\n      <td>...</td>\n      <td>NaN</td>\n      <td>NaN</td>\n      <td>NaN</td>\n      <td>NaN</td>\n      <td>NaN</td>\n      <td>NaN</td>\n      <td>NaN</td>\n      <td>NaN</td>\n      <td>NaN</td>\n      <td>NaN</td>\n    </tr>\n    <tr>\n      <th>5158</th>\n      <td>Democratic Republic of the Congo</td>\n      <td>UNFCCC_NAI</td>\n      <td>Land-Use Change and Forestry</td>\n      <td>Aggregate GHGs</td>\n      <td>MtCO₂e</td>\n      <td>NaN</td>\n      <td>NaN</td>\n      <td>NaN</td>\n      <td>NaN</td>\n      <td>NaN</td>\n      <td>...</td>\n      <td>NaN</td>\n      <td>NaN</td>\n      <td>NaN</td>\n      <td>NaN</td>\n      <td>NaN</td>\n      <td>NaN</td>\n      <td>NaN</td>\n      <td>NaN</td>\n      <td>NaN</td>\n      <td>NaN</td>\n    </tr>\n    <tr>\n      <th>14292</th>\n      <td>Nigeria</td>\n      <td>UNFCCC_NAI</td>\n      <td>Agriculture</td>\n      <td>Aggregate GHGs</td>\n      <td>MtCO₂e</td>\n      <td>NaN</td>\n      <td>NaN</td>\n      <td>NaN</td>\n      <td>NaN</td>\n      <td>NaN</td>\n      <td>...</td>\n      <td>NaN</td>\n      <td>NaN</td>\n      <td>NaN</td>\n      <td>NaN</td>\n      <td>NaN</td>\n      <td>NaN</td>\n      <td>NaN</td>\n      <td>NaN</td>\n      <td>NaN</td>\n      <td>NaN</td>\n    </tr>\n    <tr>\n      <th>4515</th>\n      <td>Costa Rica</td>\n      <td>UNFCCC_NAI</td>\n      <td>Energy</td>\n      <td>Aggregate GHGs</td>\n      <td>MtCO₂e</td>\n      <td>NaN</td>\n      <td>NaN</td>\n      <td>NaN</td>\n      <td>NaN</td>\n      <td>NaN</td>\n      <td>...</td>\n      <td>NaN</td>\n      <td>NaN</td>\n      <td>NaN</td>\n      <td>NaN</td>\n      <td>NaN</td>\n      <td>NaN</td>\n      <td>NaN</td>\n      <td>NaN</td>\n      <td>NaN</td>\n      <td>NaN</td>\n    </tr>\n    <tr>\n      <th>21883</th>\n      <td>Zimbabwe</td>\n      <td>UNFCCC_NAI</td>\n      <td>Energy</td>\n      <td>Aggregate GHGs</td>\n      <td>MtCO₂e</td>\n      <td>NaN</td>\n      <td>NaN</td>\n      <td>NaN</td>\n      <td>NaN</td>\n      <td>NaN</td>\n      <td>...</td>\n      <td>NaN</td>\n      <td>NaN</td>\n      <td>NaN</td>\n      <td>NaN</td>\n      <td>NaN</td>\n      <td>NaN</td>\n      <td>NaN</td>\n      <td>NaN</td>\n      <td>NaN</td>\n      <td>NaN</td>\n    </tr>\n    <tr>\n      <th>16062</th>\n      <td>Republic of Congo</td>\n      <td>UNFCCC_NAI</td>\n      <td>Total GHG emissions with LULUCF</td>\n      <td>Aggregate GHGs</td>\n      <td>MtCO₂e</td>\n      <td>NaN</td>\n      <td>NaN</td>\n      <td>NaN</td>\n      <td>NaN</td>\n      <td>NaN</td>\n      <td>...</td>\n      <td>NaN</td>\n      <td>NaN</td>\n      <td>NaN</td>\n      <td>NaN</td>\n      <td>NaN</td>\n      <td>NaN</td>\n      <td>NaN</td>\n      <td>NaN</td>\n      <td>NaN</td>\n      <td>NaN</td>\n    </tr>\n    <tr>\n      <th>17491</th>\n      <td>Sierra Leone</td>\n      <td>UNFCCC_NAI</td>\n      <td>Other</td>\n      <td>Aggregate GHGs</td>\n      <td>MtCO₂e</td>\n      <td>NaN</td>\n      <td>NaN</td>\n      <td>NaN</td>\n      <td>NaN</td>\n      <td>NaN</td>\n      <td>...</td>\n      <td>NaN</td>\n      <td>NaN</td>\n      <td>NaN</td>\n      <td>NaN</td>\n      <td>NaN</td>\n      <td>NaN</td>\n      <td>NaN</td>\n      <td>NaN</td>\n      <td>NaN</td>\n      <td>NaN</td>\n    </tr>\n    <tr>\n      <th>20394</th>\n      <td>Uganda</td>\n      <td>UNFCCC_NAI</td>\n      <td>Agriculture</td>\n      <td>Aggregate GHGs</td>\n      <td>MtCO₂e</td>\n      <td>NaN</td>\n      <td>NaN</td>\n      <td>NaN</td>\n      <td>NaN</td>\n      <td>NaN</td>\n      <td>...</td>\n      <td>NaN</td>\n      <td>NaN</td>\n      <td>NaN</td>\n      <td>NaN</td>\n      <td>NaN</td>\n      <td>NaN</td>\n      <td>NaN</td>\n      <td>NaN</td>\n      <td>NaN</td>\n      <td>NaN</td>\n    </tr>\n    <tr>\n      <th>4353</th>\n      <td>Comoros</td>\n      <td>UNFCCC_NAI</td>\n      <td>Solvent and Other Product Use</td>\n      <td>Aggregate GHGs</td>\n      <td>MtCO₂e</td>\n      <td>NaN</td>\n      <td>NaN</td>\n      <td>NaN</td>\n      <td>NaN</td>\n      <td>NaN</td>\n      <td>...</td>\n      <td>NaN</td>\n      <td>NaN</td>\n      <td>NaN</td>\n      <td>NaN</td>\n      <td>NaN</td>\n      <td>NaN</td>\n      <td>NaN</td>\n      <td>NaN</td>\n      <td>NaN</td>\n      <td>NaN</td>\n    </tr>\n  </tbody>\n</table>\n<p>10 rows × 174 columns</p>\n</div>"
     },
     "metadata": {},
     "execution_count": 141
    }
   ],
   "source": [
    "ghg_agg_UNFCCC.sample(10)"
   ]
  }
 ],
 "metadata": {
  "language_info": {
   "codemirror_mode": {
    "name": "ipython",
    "version": 3
   },
   "file_extension": ".py",
   "mimetype": "text/x-python",
   "name": "python",
   "nbconvert_exporter": "python",
   "pygments_lexer": "ipython3",
   "version": "3.7.6-final"
  },
  "orig_nbformat": 2,
  "kernelspec": {
   "name": "python3",
   "display_name": "Python 3"
  }
 },
 "nbformat": 4,
 "nbformat_minor": 2
}