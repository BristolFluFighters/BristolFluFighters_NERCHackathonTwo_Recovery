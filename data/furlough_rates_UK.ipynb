{
 "cells": [
  {
   "cell_type": "markdown",
   "metadata": {},
   "source": [
    "# UK furlough rates\n",
    "\n",
    "From: https://www.ons.gov.uk/employmentandlabourmarket/peopleinwork/employmentandemployeetypes/articles/furloughingofworkersacrossukbusinesses/23march2020to5april2020"
   ]
  },
  {
   "cell_type": "code",
   "execution_count": 1,
   "metadata": {},
   "outputs": [],
   "source": [
    "import pandas as pd\n",
    "from matplotlib import pyplot as plt\n",
    "import requests\n",
    "import os\n",
    "import numpy as np"
   ]
  },
  {
   "cell_type": "code",
   "execution_count": 2,
   "metadata": {},
   "outputs": [],
   "source": [
    "# Go to repository root directory\n",
    "if \"_changed_dir\" not in locals():\n",
    "    os.chdir(\"../\")\n",
    "    _changed_dir = True"
   ]
  },
  {
   "cell_type": "markdown",
   "metadata": {},
   "source": [
    "## Data load"
   ]
  },
  {
   "cell_type": "code",
   "execution_count": 3,
   "metadata": {},
   "outputs": [],
   "source": [
    "raw_data_dir = 'data/raw'\n",
    "if not os.path.exists(raw_data_dir):\n",
    "    os.makedirs(raw_data_dir)"
   ]
  },
  {
   "cell_type": "code",
   "execution_count": 14,
   "metadata": {},
   "outputs": [],
   "source": [
    "file_name = 'furlough_rates_UK.csv'\n",
    "\n",
    "file_path = os.path.join(raw_data_dir, file_name)"
   ]
  },
  {
   "cell_type": "markdown",
   "metadata": {},
   "source": [
    "## Preprocess data"
   ]
  },
  {
   "cell_type": "code",
   "execution_count": 15,
   "metadata": {},
   "outputs": [
    {
     "data": {
      "text/html": [
       "<div>\n",
       "<style scoped>\n",
       "    .dataframe tbody tr th:only-of-type {\n",
       "        vertical-align: middle;\n",
       "    }\n",
       "\n",
       "    .dataframe tbody tr th {\n",
       "        vertical-align: top;\n",
       "    }\n",
       "\n",
       "    .dataframe thead th {\n",
       "        text-align: right;\n",
       "    }\n",
       "</style>\n",
       "<table border=\"1\" class=\"dataframe\">\n",
       "  <thead>\n",
       "    <tr style=\"text-align: right;\">\n",
       "      <th></th>\n",
       "      <th>Continuing to trade</th>\n",
       "      <th>Has temporarily closed or paused trading</th>\n",
       "      <th>Continuing to trade and temporarily closed or paused trading combined</th>\n",
       "    </tr>\n",
       "    <tr>\n",
       "      <th>Industry</th>\n",
       "      <th></th>\n",
       "      <th></th>\n",
       "      <th></th>\n",
       "    </tr>\n",
       "  </thead>\n",
       "  <tbody>\n",
       "    <tr>\n",
       "      <th>Arts Entertainment And Recreation</th>\n",
       "      <td>22.2</td>\n",
       "      <td>75.5</td>\n",
       "      <td>67.5</td>\n",
       "    </tr>\n",
       "    <tr>\n",
       "      <th>Human Health And Social Work Activities</th>\n",
       "      <td>11.2</td>\n",
       "      <td>0.0</td>\n",
       "      <td>11.7</td>\n",
       "    </tr>\n",
       "    <tr>\n",
       "      <th>Education</th>\n",
       "      <td>3.2</td>\n",
       "      <td>13.4</td>\n",
       "      <td>3.8</td>\n",
       "    </tr>\n",
       "    <tr>\n",
       "      <th>Administrative And Support Service Activities</th>\n",
       "      <td>25.1</td>\n",
       "      <td>85.7</td>\n",
       "      <td>28.5</td>\n",
       "    </tr>\n",
       "    <tr>\n",
       "      <th>Professional Scientific And Technical Activities</th>\n",
       "      <td>9.2</td>\n",
       "      <td>67.2</td>\n",
       "      <td>10.5</td>\n",
       "    </tr>\n",
       "    <tr>\n",
       "      <th>Information And Communication</th>\n",
       "      <td>5.8</td>\n",
       "      <td>24.4</td>\n",
       "      <td>6.8</td>\n",
       "    </tr>\n",
       "    <tr>\n",
       "      <th>Transportation And Storage</th>\n",
       "      <td>24.3</td>\n",
       "      <td>60.4</td>\n",
       "      <td>25.9</td>\n",
       "    </tr>\n",
       "    <tr>\n",
       "      <th>Accommodation And Food Service Activities</th>\n",
       "      <td>40.1</td>\n",
       "      <td>87.3</td>\n",
       "      <td>79.6</td>\n",
       "    </tr>\n",
       "    <tr>\n",
       "      <th>Wholesale And Retail Trade; Repair Of Motor Vehicles And Motorcycles</th>\n",
       "      <td>11.7</td>\n",
       "      <td>67.9</td>\n",
       "      <td>20.1</td>\n",
       "    </tr>\n",
       "    <tr>\n",
       "      <th>Construction</th>\n",
       "      <td>32.3</td>\n",
       "      <td>82.2</td>\n",
       "      <td>41.3</td>\n",
       "    </tr>\n",
       "    <tr>\n",
       "      <th>Water Supply Sewerage Waste Management And Remediation Activities</th>\n",
       "      <td>9.2</td>\n",
       "      <td>0.0</td>\n",
       "      <td>10.1</td>\n",
       "    </tr>\n",
       "    <tr>\n",
       "      <th>Manufacturing</th>\n",
       "      <td>14.2</td>\n",
       "      <td>84.2</td>\n",
       "      <td>29.0</td>\n",
       "    </tr>\n",
       "    <tr>\n",
       "      <th>All industries</th>\n",
       "      <td>14.3</td>\n",
       "      <td>77.6</td>\n",
       "      <td>26.7</td>\n",
       "    </tr>\n",
       "  </tbody>\n",
       "</table>\n",
       "</div>"
      ],
      "text/plain": [
       "                                                    Continuing to trade  \\\n",
       "Industry                                                                  \n",
       "Arts Entertainment And Recreation                                  22.2   \n",
       "Human Health And Social Work Activities                            11.2   \n",
       "Education                                                           3.2   \n",
       "Administrative And Support Service Activities                      25.1   \n",
       "Professional Scientific And Technical Activities                    9.2   \n",
       "Information And Communication                                       5.8   \n",
       "Transportation And Storage                                         24.3   \n",
       "Accommodation And Food Service Activities                          40.1   \n",
       "Wholesale And Retail Trade; Repair Of Motor Veh...                 11.7   \n",
       "Construction                                                       32.3   \n",
       "Water Supply Sewerage Waste Management And Reme...                  9.2   \n",
       "Manufacturing                                                      14.2   \n",
       "All industries                                                     14.3   \n",
       "\n",
       "                                                    Has temporarily closed or paused trading  \\\n",
       "Industry                                                                                       \n",
       "Arts Entertainment And Recreation                                                       75.5   \n",
       "Human Health And Social Work Activities                                                  0.0   \n",
       "Education                                                                               13.4   \n",
       "Administrative And Support Service Activities                                           85.7   \n",
       "Professional Scientific And Technical Activities                                        67.2   \n",
       "Information And Communication                                                           24.4   \n",
       "Transportation And Storage                                                              60.4   \n",
       "Accommodation And Food Service Activities                                               87.3   \n",
       "Wholesale And Retail Trade; Repair Of Motor Veh...                                      67.9   \n",
       "Construction                                                                            82.2   \n",
       "Water Supply Sewerage Waste Management And Reme...                                       0.0   \n",
       "Manufacturing                                                                           84.2   \n",
       "All industries                                                                          77.6   \n",
       "\n",
       "                                                    Continuing to trade and temporarily closed or paused trading combined  \n",
       "Industry                                                                                                                   \n",
       "Arts Entertainment And Recreation                                                                67.5                      \n",
       "Human Health And Social Work Activities                                                          11.7                      \n",
       "Education                                                                                         3.8                      \n",
       "Administrative And Support Service Activities                                                    28.5                      \n",
       "Professional Scientific And Technical Activities                                                 10.5                      \n",
       "Information And Communication                                                                     6.8                      \n",
       "Transportation And Storage                                                                       25.9                      \n",
       "Accommodation And Food Service Activities                                                        79.6                      \n",
       "Wholesale And Retail Trade; Repair Of Motor Veh...                                               20.1                      \n",
       "Construction                                                                                     41.3                      \n",
       "Water Supply Sewerage Waste Management And Reme...                                               10.1                      \n",
       "Manufacturing                                                                                    29.0                      \n",
       "All industries                                                                                   26.7                      "
      ]
     },
     "execution_count": 15,
     "metadata": {},
     "output_type": "execute_result"
    }
   ],
   "source": [
    "furlough_rates_UK = pd.read_csv(file_path)\n",
    "furlough_rates_UK.set_index('Industry')"
   ]
  },
  {
   "cell_type": "code",
   "execution_count": 17,
   "metadata": {},
   "outputs": [
    {
     "data": {
      "text/plain": [
       "<matplotlib.legend.Legend at 0x13d4a866848>"
      ]
     },
     "execution_count": 17,
     "metadata": {},
     "output_type": "execute_result"
    },
    {
     "data": {
      "image/png": "[encoded data removed]",
      "text/plain": [
       "<Figure size 432x288 with 1 Axes>"
      ]
     },
     "metadata": {
      "needs_background": "light"
     },
     "output_type": "display_data"
    }
   ],
   "source": [
    "furlough_rates_UK.plot.barh().legend(loc='center left',bbox_to_anchor=(1.0, 0.5))"
   ]
  },
  {
   "cell_type": "code",
   "execution_count": null,
   "metadata": {},
   "outputs": [],
   "source": []
  }
 ],
 "metadata": {
  "kernelspec": {
   "display_name": "Python 3",
   "language": "python",
   "name": "python3"
  },
  "language_info": {
   "codemirror_mode": {
    "name": "ipython",
    "version": 3
   },
   "file_extension": ".py",
   "mimetype": "text/x-python",
   "name": "python",
   "nbconvert_exporter": "python",
   "pygments_lexer": "ipython3",
   "version": "3.7.7"
  }
 },
 "nbformat": 4,
 "nbformat_minor": 2
}
